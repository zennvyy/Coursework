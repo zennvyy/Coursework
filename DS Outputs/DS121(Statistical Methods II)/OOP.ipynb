{
 "cells": [
  {
   "cell_type": "markdown",
   "id": "1516ca5c",
   "metadata": {},
   "source": [
    "$\\textbf{DS 131 - DATA STRUCTURES and ALGORITHMS} \\\\ \\text{1Q SY2324}$\n",
    "\n",
    "$\\text{Edgar M. Adina} \\\\ \\textit{Instructor}$"
   ]
  },
  {
   "cell_type": "markdown",
   "id": "44c28996",
   "metadata": {},
   "source": [
    "## <center> Object-Oriented Programming"
   ]
  },
  {
   "cell_type": "markdown",
   "id": "8b9a254b",
   "metadata": {},
   "source": [
    "Often we need to use other packages, such as scipy, numpy, or other domain specified packages. When you check the source code of these packages, you may see new keywords in the code, such as class. What are classes and why do we use them? This is a new programming paradigm - Object-Oriented Programming (OOP) that is commonly used in writing large programs or packages. \n",
    "\n",
    "When writing a large program, OOP has a number of pluses: it simplifies the code for better readability, better describes the end goal of the project, is reusable, and reduces the number of potential bugs in the code. Given these features, you will see OOP in most of the standard packages in the field. Understanding its basics will help you write better code. \n",
    "\n",
    "This lesson introduces the basics of OOP, with emphasis on the core components: object, class, and inheritance, . Python is a highly object-oriented programming language and understanding these concepts will help you program with a minimum amount of headaches."
   ]
  },
  {
   "cell_type": "markdown",
   "id": "fd0c75e4",
   "metadata": {},
   "source": [
    "### POP vs OOP"
   ]
  },
  {
   "cell_type": "markdown",
   "id": "410b9c9e",
   "metadata": {},
   "source": [
    "So far, all the codes we have written belong to the category of procedure-oriented programming (POP), which consists of a list of instructions to tell the computer what to do; these instructions are then organized into functions. The program is divided into a collection of variables, data structures, and routines to accomplish different tasks. Python is a multi-paradigm programming language, which means it supports different programming approach. One different way to program in Python is object-oriented programming (OOP). The learning curve is steeper, but it is extremely very powerful and worth the time invested in mastering it. \n",
    "\n",
    "*Note:* you do not have to use OOP when programming in Python. You can still write very powerful programs using the POP. That said, the POP is good for simple and small programs, while the OOP is better suited for large programs. \n",
    "\n",
    "The object-oriented programming breaks the programming task into objects, which combine data (known as attributes) and behaviors/functions (known as methods). Therefore, there are two main components of the OOP: **class and object**.\n",
    "\n",
    "The **class** is a blueprint to define a logical grouping of data and functions. It provides a way to create data structures that model real-world entities. For example, we can create a people class that contains the data such as name, age, and some behavior functions to print out ages and genders of a group of people. While class is the blueprint, an **object** is an instance of the class with actual values. For example, a person named ‘Egay’ with age 51. Put it another way, a class is like a template to define the needed information, and an object is one specific copy that filled in the template. Also, objects instantiated from the same class are independent from each other. For example, if we have another person - ‘Emma’ with age 53, it can be instantiated from the people class, but it is an independent instance."
   ]
  },
  {
   "cell_type": "markdown",
   "id": "281edafd",
   "metadata": {},
   "source": [
    "*Illustration:* Let us implement the above example in Python. Do not worry if you do not understand the syntax below; the next section provide more helpful examples."
   ]
  },
  {
   "cell_type": "code",
   "execution_count": 1,
   "id": "c0afb363",
   "metadata": {},
   "outputs": [],
   "source": [
    "class People():\n",
    "    def __init__(self, name, age):\n",
    "        self.name = name\n",
    "        self.age = age\n",
    "        \n",
    "    def greet(self):\n",
    "        print(\"Greetings, \" + self.name)"
   ]
  },
  {
   "cell_type": "code",
   "execution_count": 2,
   "id": "6044ec6b",
   "metadata": {},
   "outputs": [
    {
     "name": "stdout",
     "output_type": "stream",
     "text": [
      "Greetings, Egay\n",
      "Egay\n",
      "51\n"
     ]
    }
   ],
   "source": [
    "person1 = People(name = 'Egay', age = 51)\n",
    "person1.greet()\n",
    "print(person1.name)\n",
    "print(person1.age)"
   ]
  },
  {
   "cell_type": "code",
   "execution_count": 3,
   "id": "568dcc18",
   "metadata": {},
   "outputs": [
    {
     "name": "stdout",
     "output_type": "stream",
     "text": [
      "Greetings, Emma\n",
      "Emma\n",
      "53\n"
     ]
    }
   ],
   "source": [
    "person2 = People(name = 'Emma', age = 53)\n",
    "person2.greet()\n",
    "print(person2.name)\n",
    "print(person2.age)"
   ]
  },
  {
   "cell_type": "markdown",
   "id": "93bd357e",
   "metadata": {},
   "source": [
    "In the above code example, we first defined a class - People, with name and age as the data, and a method greet. We then initialized an object - person1 with the specific name and age. We can clearly see that the class defines the whole structure, while the object is just an instance of the class. Then we instantiated another object, person2. It is clear that person1 and person2 are independent with each other, though they are all instantiated from the same class."
   ]
  },
  {
   "cell_type": "markdown",
   "id": "719f1dcc",
   "metadata": {},
   "source": [
    "The concept of OOP is to create reusable code. There are three key principles of using OOP:\n",
    "\n",
    "     (i) Inheritance - a way of creating new classes from existing class without modifying it.\n",
    "\n",
    "     (ii) Encapsulation - a way of hiding some of the private details of a class from other objects.\n",
    "\n",
    "     (iii) Polymorphism - a way of using common operation in different ways for different data input"
   ]
  },
  {
   "cell_type": "markdown",
   "id": "8db9e4d8",
   "metadata": {},
   "source": [
    "With the above principles, there are many benefits of using OOP: It provides a clear modular structure for programs that enhances code re-usability. It provides a simple way to solve complex problems. It helps define more abstract data types to model real-world scenarios. It hides implementation details, leaving a clearly defined interface. It combines data and operations."
   ]
  },
  {
   "cell_type": "markdown",
   "id": "db632e33",
   "metadata": {},
   "source": [
    "### Class"
   ]
  },
  {
   "cell_type": "markdown",
   "id": "9c1452f9",
   "metadata": {},
   "source": [
    "A **class** is a definition of the structure that we want. Similar to a function, it is defined as a block of code, starting with the class statement. The syntax of defining a class is:"
   ]
  },
  {
   "cell_type": "code",
   "execution_count": 6,
   "id": "87347cc0",
   "metadata": {},
   "outputs": [
    {
     "ename": "IndentationError",
     "evalue": "expected an indented block after function definition on line 3 (4211623888.py, line 6)",
     "output_type": "error",
     "traceback": [
      "\u001b[1;36m  Cell \u001b[1;32mIn[6], line 6\u001b[1;36m\u001b[0m\n\u001b[1;33m    def other_methods(self, arguments):\u001b[0m\n\u001b[1;37m    ^\u001b[0m\n\u001b[1;31mIndentationError\u001b[0m\u001b[1;31m:\u001b[0m expected an indented block after function definition on line 3\n"
     ]
    }
   ],
   "source": [
    "class ClassName(superclass):\n",
    "    \n",
    "    def __init__(self, arguments):\n",
    "        # define or assign object attributes\n",
    "        \n",
    "    def other_methods(self, arguments):\n",
    "        # body of the method"
   ]
  },
  {
   "cell_type": "markdown",
   "id": "a31c4643",
   "metadata": {},
   "source": [
    "*Note:* The definition of a class is very similar to a function. It needs to be instantiated first before you can use it. \n",
    "\n",
    "For the class name, it is standard convention to use “CapWords.” The superclass is used when you want create a new class to inherit the attributes and methods from another already defined class. We will talk more about inheritance in the next section. \n",
    "\n",
    "The **__init__** is one of the special methods in Python classes that is run as soon as an object of a class is instantiated (created). It assigns initial values to the object before it is ready to be used. Note the two underscores at the beginning and end of the init, indicating this is a special method reserved for special use in the language. \n",
    "\n",
    "In this init method, you can assign attributes directly when you create the object. The **other_methods** functions are used to define the instance methods that will be applied on the attributes.  \n",
    "\n",
    "You may notice that there is a parameter self for defining this method in the class. Why? A class instance method must have this extra argument as the first argument when you define it. This particular argument refers to the object itself; conventionally, we use self to name it. Through this self parameter, instance methods can freely access attributes and other methods in the same object. When we define or call an instance method within a class, we need to use this self parameter. Let us see an example below."
   ]
  },
  {
   "cell_type": "markdown",
   "id": "59d72164",
   "metadata": {},
   "source": [
    "**Example:** Define a class named Student, with the attributes sid (student id), name, gender, type in the init method and a method called say_name to print out the student’s name. All the attributes will be passed in except type, which will have a value as ‘learning’."
   ]
  },
  {
   "cell_type": "code",
   "execution_count": 10,
   "id": "2171837c",
   "metadata": {},
   "outputs": [],
   "source": [
    "class Student():\n",
    "    \n",
    "    def __init__(self, sid, name, gender):\n",
    "        self.sid = sid\n",
    "        self.name = name\n",
    "        self.gender = gender\n",
    "        self.type = 'learning'\n",
    "        \n",
    "    def say_name(self):\n",
    "        print(\"My name is Zen \" + self.name)"
   ]
  },
  {
   "cell_type": "markdown",
   "id": "da5d3cd7",
   "metadata": {},
   "source": [
    "From the above example, we can see this simple class contains all the necessary parts mentioned previously. The **__init__** method will initialize the attributes when we create an object. We need to pass in the initial value for sid, name, and gender, while the attribute type is a fixed value as “learning”.\n",
    "\n",
    "These attributes can be accessed by all the other methods defined in the class with *self.attribute*, for example, in the *say_name* method, we can use the name attribute with *self.name*. The methods defined in the class can be accessed and used in other different methods as well using *self.method*. Let us see the following example."
   ]
  },
  {
   "cell_type": "markdown",
   "id": "e086f3c4",
   "metadata": {},
   "source": [
    "**Example:** Add a method report that print not only the student name, but also the student id. The method will have another argument score, that will pass in a number between 0 - 100 as part of the report."
   ]
  },
  {
   "cell_type": "code",
   "execution_count": 12,
   "id": "da1a3ca6",
   "metadata": {},
   "outputs": [],
   "source": [
    "class Student():\n",
    "    \n",
    "    def __init__(self, sid, name, gender):\n",
    "        self.sid = sid\n",
    "        self.name = name\n",
    "        self.gender = gender\n",
    "        self.type = 'learning'\n",
    "        \n",
    "    def say_name(self):\n",
    "        print(\"My name is \" + self.name)\n",
    "        \n",
    "    def report(self, score):\n",
    "        self.say_name()\n",
    "        print(\"My id is: \" + self.sid)\n",
    "        print(\"My score is: \" + str(score))"
   ]
  },
  {
   "cell_type": "markdown",
   "id": "cc4eb143",
   "metadata": {},
   "source": [
    "### Object"
   ]
  },
  {
   "cell_type": "markdown",
   "id": "992e060c",
   "metadata": {},
   "source": [
    "As mentioned earlier, an object is an instance of the defined class with actual values. We can have many instances of different values associated with the class, and each of these instances will be independent with each other as we saw previously. Also, after we create an object, and call this instance method from the object, we do not need to give value to the self parameter since Python automatically provides it. See the following example:"
   ]
  },
  {
   "cell_type": "markdown",
   "id": "e2f4066f",
   "metadata": {},
   "source": [
    "**Example:** Create two objects (“001”, “Emma”, “F”) and (“002”, “Egay”, “M”), and call the method say_name."
   ]
  },
  {
   "cell_type": "code",
   "execution_count": 13,
   "id": "c4c84a9a",
   "metadata": {},
   "outputs": [
    {
     "name": "stdout",
     "output_type": "stream",
     "text": [
      "My name is Emma\n",
      "My name is Egay\n",
      "learning\n",
      "F\n"
     ]
    }
   ],
   "source": [
    "student1 = Student(\"001\", \"Emma\", \"F\")\n",
    "student2 = Student(\"002\", \"Egay\", \"M\")\n",
    "\n",
    "student1.say_name()\n",
    "student2.say_name()\n",
    "print(student1.type)\n",
    "print(student1.gender)"
   ]
  },
  {
   "cell_type": "markdown",
   "id": "3c8bd420",
   "metadata": {},
   "source": [
    "In the above code, we created two objects, student1 and student2, with two different sets of values. Each object is an instance of the Student class and has a different set of attributes. Type student1.+TAB to see the defined attributes and methods. To get access to one attribute, type object.attribute, e.g., student1.type. In contrast, to call a method, you need the parentheses because you are calling a function, such as student1.say_name()."
   ]
  },
  {
   "cell_type": "markdown",
   "id": "17b43249",
   "metadata": {},
   "source": [
    "**Example:** Call method report for student1 and student2 with score 95 and 90 individually. \n",
    "\n",
    "*Note:* we do not need the “self” as an argument here."
   ]
  },
  {
   "cell_type": "code",
   "execution_count": 14,
   "id": "3f506476",
   "metadata": {},
   "outputs": [
    {
     "name": "stdout",
     "output_type": "stream",
     "text": [
      "My name is Emma\n",
      "My id is: 001\n",
      "My score is: 95\n",
      "My name is Egay\n",
      "My id is: 002\n",
      "My score is: 90\n"
     ]
    }
   ],
   "source": [
    "student1.report(95)\n",
    "student2.report(90)"
   ]
  },
  {
   "cell_type": "markdown",
   "id": "e61e3e66",
   "metadata": {},
   "source": [
    "We can see both methods calling to print out the data associated with the two objects. Note: the score value we passed in is only available to the method report (within the scope of this method). We can also see that the method say_name call in the report also works, as long as you call the method with the self in it."
   ]
  },
  {
   "cell_type": "markdown",
   "id": "10069579",
   "metadata": {},
   "source": [
    "#### <center> Exercise"
   ]
  },
  {
   "cell_type": "markdown",
   "id": "066f5631",
   "metadata": {},
   "source": [
    "The following is a definition of the class Point that takes in the coordinate x, y. Add a method plot_point that plot the position of point."
   ]
  },
  {
   "cell_type": "code",
   "execution_count": null,
   "id": "9fe341ec",
   "metadata": {},
   "outputs": [],
   "source": [
    "import matplotlib.pyplot as plt\n",
    "\n",
    "class Point():\n",
    "   def __init__(self, x, y):\n",
    "       self.x = x\n",
    "       self.y = y"
   ]
  },
  {
   "cell_type": "code",
   "execution_count": 15,
   "id": "b6ae8c3d",
   "metadata": {},
   "outputs": [
    {
     "data": {
      "image/png": "[encoded data removed]",
      "text/plain": [
       "<Figure size 640x480 with 1 Axes>"
      ]
     },
     "metadata": {},
     "output_type": "display_data"
    }
   ],
   "source": [
    "import matplotlib.pyplot as plt\n",
    "\n",
    "class Point:\n",
    "    def __init__(self, x, y):\n",
    "        self.x = x\n",
    "        self.y = y\n",
    "\n",
    "    def plot_point(self):\n",
    "        plt.scatter(self.x, self.y, marker='o', color='red')\n",
    "        plt.xlabel('X-axis')\n",
    "        plt.ylabel('Y-axis')\n",
    "        plt.title('Point Plot')\n",
    "        plt.grid(True)\n",
    "        plt.show()\n",
    "\n",
    "\n",
    "if __name__ == \"__main__\":\n",
    "    point = Point(3, 4)\n",
    "    point.plot_point()\n"
   ]
  },
  {
   "cell_type": "code",
   "execution_count": 19,
   "id": "d797fc09",
   "metadata": {},
   "outputs": [
    {
     "data": {
      "image/png": "[encoded data removed]",
      "text/plain": [
       "<Figure size 640x480 with 1 Axes>"
      ]
     },
     "metadata": {},
     "output_type": "display_data"
    }
   ],
   "source": [
    "    point = Point(6, 9)\n",
    "    point.plot_point()"
   ]
  },
  {
   "cell_type": "markdown",
   "id": "4316e93f",
   "metadata": {},
   "source": [
    "Using the same class, add a method calculate_dist which takes in x and y from another point, and returns the distance calculated between the two points. Show sample calculations."
   ]
  },
  {
   "cell_type": "code",
   "execution_count": 20,
   "id": "33c597e6",
   "metadata": {},
   "outputs": [
    {
     "name": "stdout",
     "output_type": "stream",
     "text": [
      "Distance between point1 and point2: 5.830951894845301\n"
     ]
    }
   ],
   "source": [
    "import math\n",
    "\n",
    "class Point:\n",
    "    def __init__(self, x, y):\n",
    "        self.x = x\n",
    "        self.y = y\n",
    "\n",
    "    def plot_point(self):\n",
    "        plt.scatter(self.x, self.y, marker='o', color='red')\n",
    "        plt.xlabel('X-axis')\n",
    "        plt.ylabel('Y-axis')\n",
    "        plt.title('Point Plot')\n",
    "        plt.grid(True)\n",
    "        plt.show()\n",
    "\n",
    "    def calculate_dist(self, other_point):\n",
    "        dx = self.x - other_point.x\n",
    "        dy = self.y - other_point.y\n",
    "        distance = math.sqrt(dx ** 2 + dy ** 2)\n",
    "        return distance\n",
    "\n",
    "# Example usage:\n",
    "if __name__ == \"__main__\":\n",
    "    point1 = Point(3, 4)\n",
    "    point2 = Point(6, 9)\n",
    "\n",
    "    distance = point1.calculate_dist(point2)\n",
    "    print(f\"Distance between point1 and point2: {distance}\")\n"
   ]
  },
  {
   "cell_type": "code",
   "execution_count": null,
   "id": "5d0fcc16",
   "metadata": {},
   "outputs": [],
   "source": []
  }
 ],
 "metadata": {
  "kernelspec": {
   "display_name": "Python 3 (ipykernel)",
   "language": "python",
   "name": "python3"
  },
  "language_info": {
   "codemirror_mode": {
    "name": "ipython",
    "version": 3
   },
   "file_extension": ".py",
   "mimetype": "text/x-python",
   "name": "python",
   "nbconvert_exporter": "python",
   "pygments_lexer": "ipython3",
   "version": "3.10.9"
  }
 },
 "nbformat": 4,
 "nbformat_minor": 5
}
