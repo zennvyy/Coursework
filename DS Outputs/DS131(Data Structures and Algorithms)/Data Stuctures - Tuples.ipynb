{
 "cells": [
  {
   "cell_type": "markdown",
   "id": "a663713a",
   "metadata": {},
   "source": [
    "$\\textbf{DS 131 - DATA STRUCTURES and ALGORITHMS} \\\\ \\text{1Q SY2324}$\n",
    "\n",
    "$\\text{Edgar M. Adina} \\\\ \\textit{Instructor}$"
   ]
  },
  {
   "cell_type": "markdown",
   "id": "de11a99f",
   "metadata": {},
   "source": [
    "## <center> DATA STRUCTURES - TUPLES"
   ]
  },
  {
   "cell_type": "markdown",
   "id": "18e110ad",
   "metadata": {},
   "source": [
    "When working with data collections, we occasionally encounter situations where we want to ensure that it is impossible to change the sequence of objects after creation.\n",
    "\n",
    "For instance, when reading data from a database in Python, we can represent each table record as an ordered and unchangeable sequence of objects since we don't need to alter the sequence later. Python has a built-in sequence data type to store data in an unchangeable object, called a **tuple**."
   ]
  },
  {
   "cell_type": "markdown",
   "id": "65ccf594",
   "metadata": {},
   "source": [
    "A tuple represents a sequence of any objects separated by commas and enclosed in parentheses. A tuple is an **immutable** object, which means it cannot be changed, and we use it to represent fixed collections of items. It is usually defined by using a pair of parentheses ( ) , and its elements are separated by commas. "
   ]
  },
  {
   "cell_type": "markdown",
   "id": "8f75eee0",
   "metadata": {},
   "source": [
    "**Example**"
   ]
  },
  {
   "cell_type": "code",
   "execution_count": 1,
   "id": "1c8b285b",
   "metadata": {},
   "outputs": [
    {
     "data": {
      "text/plain": [
       "(1, 2, 3, 2)"
      ]
     },
     "execution_count": 1,
     "metadata": {},
     "output_type": "execute_result"
    }
   ],
   "source": [
    "tuple_1 = (1, 2, 3, 2)\n",
    "tuple_1"
   ]
  },
  {
   "cell_type": "markdown",
   "id": "1776f5a2",
   "metadata": {},
   "source": [
    "As strings and lists, they way for indexing the tuples, slicing the elements, and even some methods are very similar."
   ]
  },
  {
   "cell_type": "markdown",
   "id": "f6ade728",
   "metadata": {},
   "source": [
    "**Example:** Get the length of tuple_1."
   ]
  },
  {
   "cell_type": "code",
   "execution_count": 2,
   "id": "d42c02dc",
   "metadata": {},
   "outputs": [
    {
     "data": {
      "text/plain": [
       "4"
      ]
     },
     "execution_count": 2,
     "metadata": {},
     "output_type": "execute_result"
    }
   ],
   "source": [
    "len(tuple_1)"
   ]
  },
  {
   "cell_type": "markdown",
   "id": "5f83cae9",
   "metadata": {},
   "source": [
    "**Example:** Get the elements from index 1 to 3 for tuple_1."
   ]
  },
  {
   "cell_type": "code",
   "execution_count": 3,
   "id": "d741c271",
   "metadata": {},
   "outputs": [
    {
     "data": {
      "text/plain": [
       "(2, 3, 2)"
      ]
     },
     "execution_count": 3,
     "metadata": {},
     "output_type": "execute_result"
    }
   ],
   "source": [
    "tuple_1[1:4]"
   ]
  },
  {
   "cell_type": "markdown",
   "id": "e1f822f4",
   "metadata": {},
   "source": [
    "**Example:** Count the occurrence for number 2 in tuple_1."
   ]
  },
  {
   "cell_type": "code",
   "execution_count": 4,
   "id": "ac960b53",
   "metadata": {},
   "outputs": [
    {
     "data": {
      "text/plain": [
       "2"
      ]
     },
     "execution_count": 4,
     "metadata": {},
     "output_type": "execute_result"
    }
   ],
   "source": [
    "tuple_1.count(2)"
   ]
  },
  {
   "cell_type": "markdown",
   "id": "6607022d",
   "metadata": {},
   "source": [
    "You may ask, what’s the difference between lists and tuples? If they are similar to each other, why do we need another sequence data structure?"
   ]
  },
  {
   "cell_type": "markdown",
   "id": "d88e3d3c",
   "metadata": {},
   "source": [
    "Though tuples may seem similar to lists, they are often used in different situations and for different purposes. Tuples are *immutable*, and usually contain a *heterogeneous* sequence of elements that are accessed via unpacking  or indexing (or even by attribute in the case of named tuples). Lists are *mutable*, and their elements are usually *homogeneous* and are accessed by iterating over the list."
   ]
  },
  {
   "cell_type": "markdown",
   "id": "06d73bf2",
   "metadata": {},
   "source": [
    "What does it mean by immutable? It means the elements in the tuple, once defined, they can not be changed. But elements in a list can be changed without any problem. For example:"
   ]
  },
  {
   "cell_type": "code",
   "execution_count": 5,
   "id": "fa6edb5e",
   "metadata": {},
   "outputs": [
    {
     "data": {
      "text/plain": [
       "[1, 2, 1]"
      ]
     },
     "execution_count": 5,
     "metadata": {},
     "output_type": "execute_result"
    }
   ],
   "source": [
    "list_1 = [1, 2, 3]\n",
    "list_1[2] = 1\n",
    "list_1"
   ]
  },
  {
   "cell_type": "code",
   "execution_count": 7,
   "id": "222a54ac",
   "metadata": {},
   "outputs": [
    {
     "ename": "TypeError",
     "evalue": "'tuple' object does not support item assignment",
     "output_type": "error",
     "traceback": [
      "\u001b[1;31m---------------------------------------------------------------------------\u001b[0m",
      "\u001b[1;31mTypeError\u001b[0m                                 Traceback (most recent call last)",
      "Cell \u001b[1;32mIn[7], line 1\u001b[0m\n\u001b[1;32m----> 1\u001b[0m tuple_1[\u001b[38;5;241m2\u001b[39m] \u001b[38;5;241m=\u001b[39m \u001b[38;5;241m1\u001b[39m\n",
      "\u001b[1;31mTypeError\u001b[0m: 'tuple' object does not support item assignment"
     ]
    }
   ],
   "source": [
    "tuple_1[2] = 1"
   ]
  },
  {
   "cell_type": "markdown",
   "id": "d64a5cd7",
   "metadata": {},
   "source": [
    "What does heterogeneous mean? Tuples usually contain a heterogeneous sequence of elements, while lists usually contain a homogeneous sequence. Let’s see an example, that we have a list that contains different fruits. Usually the name of the fruits could be stored in a list, since they are homogeneous. Now we want to have a data structure to store how many fruit do we have for each type, this is usually where the tuples comes in, since the name of the fruit and the number are heterogeneous. Such as (‘apple’, 3) which means we have 3 apples."
   ]
  },
  {
   "cell_type": "code",
   "execution_count": 8,
   "id": "ee0aeefc",
   "metadata": {},
   "outputs": [
    {
     "data": {
      "text/plain": [
       "['apple', 'banana', 'orange', 'pear']"
      ]
     },
     "execution_count": 8,
     "metadata": {},
     "output_type": "execute_result"
    }
   ],
   "source": [
    "# a fruit list\n",
    "['apple', 'banana', 'orange', 'pear']"
   ]
  },
  {
   "cell_type": "code",
   "execution_count": null,
   "id": "6a0fb769",
   "metadata": {},
   "outputs": [],
   "source": [
    "# a list of (fruit, number) pairs\n",
    "[('apple', 3), ('banana', 4) , ('orange', 1), ('pear', 4)]"
   ]
  },
  {
   "cell_type": "markdown",
   "id": "120f5a4a",
   "metadata": {},
   "source": [
    "Tuples could be accessed by unpacking, it requires that the number of variables on the left side of the equals sign equals to the number of elements in the sequence."
   ]
  },
  {
   "cell_type": "code",
   "execution_count": 9,
   "id": "fae65856",
   "metadata": {},
   "outputs": [
    {
     "name": "stdout",
     "output_type": "stream",
     "text": [
      "1 2 1\n"
     ]
    }
   ],
   "source": [
    "a, b, c = list_1\n",
    "print(a, b, c)"
   ]
  },
  {
   "cell_type": "markdown",
   "id": "75049b45",
   "metadata": {},
   "source": [
    "**Remark:** The opposite operation to unpacking is packing as shown in the following example. We could see that we don’t need the parentheses to define a tuple, but it is always good to have that."
   ]
  },
  {
   "cell_type": "code",
   "execution_count": 10,
   "id": "764f679b",
   "metadata": {},
   "outputs": [
    {
     "data": {
      "text/plain": [
       "(2, 4, 5)"
      ]
     },
     "execution_count": 10,
     "metadata": {},
     "output_type": "execute_result"
    }
   ],
   "source": [
    "list_2 = 2, 4, 5\n",
    "list_2"
   ]
  },
  {
   "cell_type": "markdown",
   "id": "be3cfe27",
   "metadata": {},
   "source": [
    "#### Uses of Tuples - Tuple Element Swapping"
   ]
  },
  {
   "cell_type": "markdown",
   "id": "4ba05b0f",
   "metadata": {},
   "source": [
    "We can use tuples to swap the values associated with variables only if the variables are tuple elements. Let’s try it out:"
   ]
  },
  {
   "cell_type": "code",
   "execution_count": 11,
   "id": "a4835746",
   "metadata": {},
   "outputs": [
    {
     "name": "stdout",
     "output_type": "stream",
     "text": [
      "Before swapping:\n",
      "x = 19, y = 91\n",
      "After swapping:\n",
      "x = 91, y = 19\n"
     ]
    }
   ],
   "source": [
    "x = 19\n",
    "y = 91\n",
    "print('Before swapping:')\n",
    "print(f'x = {x}, y = {y}')\n",
    "(x, y) = (y, x)\n",
    "print('After swapping:')\n",
    "print(f'x = {x}, y = {y}')"
   ]
  },
  {
   "cell_type": "markdown",
   "id": "9b464f21",
   "metadata": {},
   "source": [
    "The value of $y$ is assigned to the $x$ variable, and the $x$ value is simultaneously assigned to the $y$. It’s a more Pythonic way to swap values."
   ]
  },
  {
   "cell_type": "markdown",
   "id": "7fa2dfe1",
   "metadata": {},
   "source": [
    "#### Uses of Tuples - Returning More Than One Value from a Function"
   ]
  },
  {
   "cell_type": "markdown",
   "id": "a1d90be9",
   "metadata": {},
   "source": [
    "Functions can only return a single value. However, we can use a tuple and put as many values as we need inside it, then return the tuple object as the function’s return value. Let’s see how we can use a tuple to return multiple values from a function in the following code:"
   ]
  },
  {
   "cell_type": "code",
   "execution_count": 12,
   "id": "ff832385",
   "metadata": {},
   "outputs": [
    {
     "name": "stdout",
     "output_type": "stream",
     "text": [
      "Sum = 16\n",
      "Avg = 5.333333333333333\n"
     ]
    }
   ],
   "source": [
    "def sum_and_avg(x, y, z):\n",
    "    s = x + y + z\n",
    "    a = s/3\n",
    "    return(s, a)\n",
    "(S, A) = sum_and_avg(3, 8, 5)\n",
    "print('Sum =', S)\n",
    "print('Avg =', A)"
   ]
  },
  {
   "cell_type": "markdown",
   "id": "d49e4fee",
   "metadata": {},
   "source": [
    "The **sum_and_avg()** function calculates the sum and average of three numeric values. The function returns $s$ and $a$, which are the two values that it calculates, in the context of the tuple object. In fact, the function only returns a single value, which is a tuple object containing multiple values. We also used the tuple unpacking technique to extract the values in the returned tuple object, then print them out.\n",
    "\n"
   ]
  },
  {
   "cell_type": "markdown",
   "id": "4a667ca7",
   "metadata": {},
   "source": [
    "### <center> Exercises"
   ]
  },
  {
   "cell_type": "markdown",
   "id": "4170f7f6",
   "metadata": {},
   "source": [
    "**1.** Create a tuple 'adina' containing 10 'objects', then print it in reverse."
   ]
  },
  {
   "cell_type": "code",
   "execution_count": 16,
   "id": "d1d781bb",
   "metadata": {},
   "outputs": [],
   "source": [
    "adina = (1, 'apple', 'banana', 42, 'cat', True, 'dog', 3.14, 'elephant', None)"
   ]
  },
  {
   "cell_type": "code",
   "execution_count": 14,
   "id": "97539389",
   "metadata": {},
   "outputs": [],
   "source": [
    "adina_reverse = adina[::-1]"
   ]
  },
  {
   "cell_type": "code",
   "execution_count": 17,
   "id": "e8e400a3",
   "metadata": {},
   "outputs": [
    {
     "data": {
      "text/plain": [
       "('Tuple', None, True, 5.5, {'name': 'Adina'}, [3, 4], 'World', 'Hello', 2, 1)"
      ]
     },
     "execution_count": 17,
     "metadata": {},
     "output_type": "execute_result"
    }
   ],
   "source": [
    "adina_reverse"
   ]
  },
  {
   "cell_type": "markdown",
   "id": "e5fac36d",
   "metadata": {},
   "source": [
    "**2.** Consider the following tuple: egay = (\"Orange\", [10, 20, 30], (5, 15, 25))"
   ]
  },
  {
   "cell_type": "markdown",
   "id": "e79dbdc3",
   "metadata": {},
   "source": [
    "Retrieve and print the value 20."
   ]
  },
  {
   "cell_type": "code",
   "execution_count": 18,
   "id": "c909f428",
   "metadata": {},
   "outputs": [],
   "source": [
    "egay = (\"Orange\", [10, 20, 30], (5, 15, 25))"
   ]
  },
  {
   "cell_type": "code",
   "execution_count": 19,
   "id": "16da2792",
   "metadata": {},
   "outputs": [],
   "source": [
    "value_20 = egay[1][1]"
   ]
  },
  {
   "cell_type": "code",
   "execution_count": 20,
   "id": "22252da0",
   "metadata": {},
   "outputs": [
    {
     "name": "stdout",
     "output_type": "stream",
     "text": [
      "20\n"
     ]
    }
   ],
   "source": [
    "print(value_20)"
   ]
  },
  {
   "cell_type": "markdown",
   "id": "09d29f2e",
   "metadata": {},
   "source": [
    "**3.** Write a program to unpack the tuple 'ed = (10, 20, 30, 40)' into four variables and display each variable."
   ]
  },
  {
   "cell_type": "markdown",
   "id": "cdab06ce",
   "metadata": {},
   "source": [
    "**Expected output:**\n",
    "\n",
    "ed = (10, 20, 30, 40)\n",
    "\n",
    "\n",
    "print(a) # should print 10\n",
    "\n",
    "print(b) # should print 20\n",
    "\n",
    "print(c) # should print 30\n",
    "\n",
    "print(d) # should print 40"
   ]
  },
  {
   "cell_type": "code",
   "execution_count": 21,
   "id": "310b30c8",
   "metadata": {},
   "outputs": [],
   "source": [
    "ed = (10, 20, 30, 40)"
   ]
  },
  {
   "cell_type": "code",
   "execution_count": 22,
   "id": "601a9408",
   "metadata": {},
   "outputs": [],
   "source": [
    "a, b, c, d = ed"
   ]
  },
  {
   "cell_type": "code",
   "execution_count": 23,
   "id": "865fea97",
   "metadata": {},
   "outputs": [
    {
     "name": "stdout",
     "output_type": "stream",
     "text": [
      "ed = (10, 20, 30, 40)\n"
     ]
    }
   ],
   "source": [
    "print(\"ed =\", ed)"
   ]
  },
  {
   "cell_type": "code",
   "execution_count": 24,
   "id": "416903ce",
   "metadata": {},
   "outputs": [
    {
     "name": "stdout",
     "output_type": "stream",
     "text": [
      "a = 10\n"
     ]
    }
   ],
   "source": [
    "print(\"a =\", a)"
   ]
  },
  {
   "cell_type": "code",
   "execution_count": 25,
   "id": "305c3d46",
   "metadata": {},
   "outputs": [
    {
     "name": "stdout",
     "output_type": "stream",
     "text": [
      "b = 20\n"
     ]
    }
   ],
   "source": [
    "print(\"b =\", b)"
   ]
  },
  {
   "cell_type": "code",
   "execution_count": 26,
   "id": "4adca152",
   "metadata": {},
   "outputs": [
    {
     "name": "stdout",
     "output_type": "stream",
     "text": [
      "c = 30\n"
     ]
    }
   ],
   "source": [
    "print(\"c =\", c)"
   ]
  },
  {
   "cell_type": "code",
   "execution_count": 27,
   "id": "cbf0819d",
   "metadata": {},
   "outputs": [
    {
     "name": "stdout",
     "output_type": "stream",
     "text": [
      "d = 40\n"
     ]
    }
   ],
   "source": [
    "print(\"d =\", d)"
   ]
  },
  {
   "cell_type": "markdown",
   "id": "9bac3fb6",
   "metadata": {},
   "source": [
    "**4.** Swap the following tuples: ed = (11, 22), ad = (99, 88)"
   ]
  },
  {
   "cell_type": "code",
   "execution_count": 29,
   "id": "d81c101f",
   "metadata": {},
   "outputs": [],
   "source": [
    "ed = (11, 22)"
   ]
  },
  {
   "cell_type": "code",
   "execution_count": 30,
   "id": "ad59db46",
   "metadata": {},
   "outputs": [],
   "source": [
    "ad = (99, 88)"
   ]
  },
  {
   "cell_type": "code",
   "execution_count": 31,
   "id": "5ea5337e",
   "metadata": {},
   "outputs": [],
   "source": [
    "ed, ad = ad, ed"
   ]
  },
  {
   "cell_type": "code",
   "execution_count": 32,
   "id": "b8e66886",
   "metadata": {},
   "outputs": [
    {
     "name": "stdout",
     "output_type": "stream",
     "text": [
      "ed = (99, 88)\n"
     ]
    }
   ],
   "source": [
    "print(\"ed =\", ed)"
   ]
  },
  {
   "cell_type": "code",
   "execution_count": 33,
   "id": "ff6e94c9",
   "metadata": {},
   "outputs": [
    {
     "name": "stdout",
     "output_type": "stream",
     "text": [
      "ad = (11, 22)\n"
     ]
    }
   ],
   "source": [
    "print(\"ad =\", ad)"
   ]
  },
  {
   "cell_type": "markdown",
   "id": "dd4aeae2",
   "metadata": {},
   "source": [
    "**5.** Write a program to copy the elements 44 and 55 from the tuple (11, 22, 33, 44, 55, 66) into a new tuple."
   ]
  },
  {
   "cell_type": "code",
   "execution_count": 34,
   "id": "9e6926c6",
   "metadata": {},
   "outputs": [],
   "source": [
    "original_tuple = (11, 22, 33, 44, 55, 66)"
   ]
  },
  {
   "cell_type": "code",
   "execution_count": 35,
   "id": "132438e2",
   "metadata": {},
   "outputs": [],
   "source": [
    "new_tuple = (original_tuple[3], original_tuple[4])"
   ]
  },
  {
   "cell_type": "code",
   "execution_count": 36,
   "id": "5bfcc472",
   "metadata": {},
   "outputs": [
    {
     "name": "stdout",
     "output_type": "stream",
     "text": [
      "(44, 55)\n"
     ]
    }
   ],
   "source": [
    "print(new_tuple)"
   ]
  },
  {
   "cell_type": "markdown",
   "id": "3a1d144e",
   "metadata": {},
   "source": [
    "**6.** Consider the nested tuple (11, [22, 33], 44, 55). Write a program to modify the item '22' to '222'. Print the new tuple as (11, [222, 33], 44, 55)."
   ]
  },
  {
   "cell_type": "code",
   "execution_count": 37,
   "id": "31ea6f6c",
   "metadata": {},
   "outputs": [],
   "source": [
    "nested_tuple = (11, [22, 33], 44, 55)"
   ]
  },
  {
   "cell_type": "code",
   "execution_count": 38,
   "id": "596bac9c",
   "metadata": {},
   "outputs": [],
   "source": [
    "modified_tuple = (\n",
    "    nested_tuple[0],\n",
    "    [222, nested_tuple[1][1]],  # Modify the second element of the nested list\n",
    "    nested_tuple[2],\n",
    "    nested_tuple[3]\n",
    ")"
   ]
  },
  {
   "cell_type": "code",
   "execution_count": 39,
   "id": "caa133bb",
   "metadata": {},
   "outputs": [
    {
     "name": "stdout",
     "output_type": "stream",
     "text": [
      "(11, [222, 33], 44, 55)\n"
     ]
    }
   ],
   "source": [
    "print(modified_tuple)"
   ]
  },
  {
   "cell_type": "markdown",
   "id": "d4d03b09",
   "metadata": {},
   "source": [
    "**7.** Sort the tuple (('a', 23),('b', 37),('c', 11), ('d',29)) of tuples by using the 2nd item."
   ]
  },
  {
   "cell_type": "code",
   "execution_count": 40,
   "id": "e47b8467",
   "metadata": {},
   "outputs": [],
   "source": [
    "original_tuple = (('a', 23), ('b', 37), ('c', 11), ('d', 29))"
   ]
  },
  {
   "cell_type": "code",
   "execution_count": 41,
   "id": "d2f1b8af",
   "metadata": {},
   "outputs": [],
   "source": [
    "sorted_tuple = sorted(original_tuple, key=lambda x: x[1])"
   ]
  },
  {
   "cell_type": "code",
   "execution_count": 42,
   "id": "32f01c9f",
   "metadata": {},
   "outputs": [
    {
     "name": "stdout",
     "output_type": "stream",
     "text": [
      "[('c', 11), ('a', 23), ('d', 29), ('b', 37)]\n"
     ]
    }
   ],
   "source": [
    "print(sorted_tuple)"
   ]
  },
  {
   "cell_type": "code",
   "execution_count": null,
   "id": "82fff1ed",
   "metadata": {},
   "outputs": [],
   "source": []
  }
 ],
 "metadata": {
  "kernelspec": {
   "display_name": "Python 3 (ipykernel)",
   "language": "python",
   "name": "python3"
  },
  "language_info": {
   "codemirror_mode": {
    "name": "ipython",
    "version": 3
   },
   "file_extension": ".py",
   "mimetype": "text/x-python",
   "name": "python",
   "nbconvert_exporter": "python",
   "pygments_lexer": "ipython3",
   "version": "3.10.9"
  }
 },
 "nbformat": 4,
 "nbformat_minor": 5
}
