{
 "cells": [
  {
   "cell_type": "code",
   "execution_count": 1,
   "id": "32ecd596",
   "metadata": {},
   "outputs": [],
   "source": [
    "#Zen Adrian Tandogon"
   ]
  },
  {
   "cell_type": "code",
   "execution_count": null,
   "id": "41344c86",
   "metadata": {},
   "outputs": [],
   "source": [
    "#1 What is 34 to the power of 4?"
   ]
  },
  {
   "cell_type": "code",
   "execution_count": 3,
   "id": "5d27a707",
   "metadata": {},
   "outputs": [
    {
     "name": "stdout",
     "output_type": "stream",
     "text": [
      "1336336\n"
     ]
    }
   ],
   "source": [
    "result = 34 ** 4\n",
    "print(result)"
   ]
  },
  {
   "cell_type": "code",
   "execution_count": 6,
   "id": "28aaea17",
   "metadata": {},
   "outputs": [],
   "source": [
    "#2 Split this string: into a list\n",
    "#s = \"Hi there Nicole! Miss you much\""
   ]
  },
  {
   "cell_type": "code",
   "execution_count": 7,
   "id": "33424f0c",
   "metadata": {},
   "outputs": [
    {
     "name": "stdout",
     "output_type": "stream",
     "text": [
      "['Hi', 'there', 'Nicole!', 'Miss', 'you', 'much']\n"
     ]
    }
   ],
   "source": [
    "s = \"Hi there Nicole! Miss you much\"\n",
    "list_s = s.split()\n",
    "print(list_s)"
   ]
  },
  {
   "cell_type": "code",
   "execution_count": 8,
   "id": "6492eece",
   "metadata": {},
   "outputs": [],
   "source": [
    "#3 Given the example variables:\n",
    "#team = \"Warriors\"\n",
    "#standing = “2nd in Western Conference”\n",
    "#Use .format() to print the following string: The standing ofWarriors is 2nd in Western Conference held "
   ]
  },
  {
   "cell_type": "code",
   "execution_count": 11,
   "id": "b6ee968e",
   "metadata": {},
   "outputs": [
    {
     "name": "stdout",
     "output_type": "stream",
     "text": [
      "The standing of Warriors is 2nd in Western Conference held\n"
     ]
    }
   ],
   "source": [
    "team = \"Warriors\"\n",
    "standing = \"2nd in Western Conference\"\n",
    "print(\"The standing of {} is {} held\".format(team, standing))"
   ]
  },
  {
   "cell_type": "code",
   "execution_count": 12,
   "id": "6b3e0d43",
   "metadata": {},
   "outputs": [],
   "source": [
    "#4 Given this nested list, use indexing to catch the word \"Mapua\""
   ]
  },
  {
   "cell_type": "code",
   "execution_count": 14,
   "id": "b3a11cc1",
   "metadata": {},
   "outputs": [
    {
     "name": "stdout",
     "output_type": "stream",
     "text": [
      "Mapua\n"
     ]
    }
   ],
   "source": [
    "lst = [3,2,[1,4],[6,[100,900,['Mapua']],33,11],1,7]\n",
    "word = lst[3][1][2][0]\n",
    "print(word)"
   ]
  },
  {
   "cell_type": "code",
   "execution_count": 15,
   "id": "f9504b92",
   "metadata": {},
   "outputs": [],
   "source": [
    "#5 Given this nested dictionary display the word \"ArtificialIntelligence\""
   ]
  },
  {
   "cell_type": "code",
   "execution_count": 17,
   "id": "9b0a1c3a",
   "metadata": {},
   "outputs": [
    {
     "name": "stdout",
     "output_type": "stream",
     "text": [
      "Artificial Intelligence\n"
     ]
    }
   ],
   "source": [
    "d = {'k1':[4,2,3,{'ML':['DL','IOT','VR',{'AR':[3,2,3,'Artificial Intelligence']}]}]}\n",
    "word = d['k1'][3]['ML'][3]['AR'][3]\n",
    "print(word)\n"
   ]
  },
  {
   "cell_type": "code",
   "execution_count": 23,
   "id": "282b5ac9",
   "metadata": {},
   "outputs": [],
   "source": [
    "#6 What is the main difference between a tuple and a list?"
   ]
  },
  {
   "cell_type": "code",
   "execution_count": 21,
   "id": "eeb18f2d",
   "metadata": {
    "scrolled": true
   },
   "outputs": [
    {
     "name": "stdout",
     "output_type": "stream",
     "text": [
      "The main difference between a tuple and a list in Python lies in their mutability. Lists are mutable, meaning you can change their content, while tuples are immutable, meaning once they’re defined, they can’t be changed. Lists are defined by square brackets [], while tuples are enclosed in parentheses (). Lists are typically used for tasks that require item modification, while tuples are used for things that shouldn’t change.\n"
     ]
    }
   ],
   "source": [
    "print(\"The main difference between a tuple and a list in Python lies in their mutability. Lists are mutable, meaning you can change their content, while tuples are immutable, meaning once they’re defined, they can’t be changed. Lists are defined by square brackets [], while tuples are enclosed in parentheses (). Lists are typically used for tasks that require item modification, while tuples are used for things that shouldn’t change.\")\n"
   ]
  },
  {
   "cell_type": "code",
   "execution_count": 22,
   "id": "a029ecbe",
   "metadata": {},
   "outputs": [],
   "source": [
    "#7 Write a function that will get the email website domain from astring in the form:mon@mapua.edu.comFor example, passing \"mon@mapua.edu.com\" would return: domain.com"
   ]
  },
  {
   "cell_type": "code",
   "execution_count": 26,
   "id": "ee66b259",
   "metadata": {},
   "outputs": [
    {
     "name": "stdout",
     "output_type": "stream",
     "text": [
      "mapua.edu.com\n"
     ]
    }
   ],
   "source": [
    "def get_domain(email):\n",
    "    return email.split('@')[-1]\n",
    "\n",
    "# Test the function\n",
    "email = \"mon@mapua.edu.com\"\n",
    "print(get_domain(email))  # Output: mapua.edu.com\n",
    "\n"
   ]
  },
  {
   "cell_type": "code",
   "execution_count": 27,
   "id": "d0e58956",
   "metadata": {},
   "outputs": [],
   "source": [
    "#8 You drive fast along EDSA, and an officer stops you. Write afunction to return one of 3 possible results: \"No credential,\"\"Small credential,\" or \"Big credential.\" If your accelerationis 60 or less, the result is \"No credential\" if speed isbetween 61 and 80, \"Small Ticket\" results. Assume speed is 81or more, \"Big credential\" results. Unless it is your birthday(encoded as a boolean value in the function's parameters) --on your birthday, your speed can be five higher in all cases"
   ]
  },
  {
   "cell_type": "code",
   "execution_count": 30,
   "id": "103dd762",
   "metadata": {},
   "outputs": [
    {
     "name": "stdout",
     "output_type": "stream",
     "text": [
      "Small credential\n",
      "Big credential\n"
     ]
    }
   ],
   "source": [
    "def caught_by_MMDA(speed, is_birthday):\n",
    "    if is_birthday:\n",
    "        speed -= 5\n",
    "\n",
    "    if speed <= 60:\n",
    "        return \"No credential\"\n",
    "    elif speed <= 80:\n",
    "        return \"Small credential\"\n",
    "    else:\n",
    "        return \"Big credential\"\n",
    "\n",
    "print(caught_by_MMDA(81, True))  # Output: Small credential\n",
    "print(caught_by_MMDA(81, False))  # Output: Big credential\n"
   ]
  }
 ],
 "metadata": {
  "kernelspec": {
   "display_name": "Python 3 (ipykernel)",
   "language": "python",
   "name": "python3"
  },
  "language_info": {
   "codemirror_mode": {
    "name": "ipython",
    "version": 3
   },
   "file_extension": ".py",
   "mimetype": "text/x-python",
   "name": "python",
   "nbconvert_exporter": "python",
   "pygments_lexer": "ipython3",
   "version": "3.10.9"
  }
 },
 "nbformat": 4,
 "nbformat_minor": 5
}
