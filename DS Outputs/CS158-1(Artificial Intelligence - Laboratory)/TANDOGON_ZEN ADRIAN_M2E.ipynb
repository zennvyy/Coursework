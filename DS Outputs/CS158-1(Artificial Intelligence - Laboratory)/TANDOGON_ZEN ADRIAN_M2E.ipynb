{
 "cells": [
  {
   "cell_type": "markdown",
   "id": "1c47b54f",
   "metadata": {},
   "source": [
    "Tandogon, Zen Adrian | Module Exam"
   ]
  },
  {
   "cell_type": "markdown",
   "id": "25b313e5",
   "metadata": {},
   "source": [
    "# 1"
   ]
  },
  {
   "cell_type": "code",
   "execution_count": 1,
   "id": "b27bb32d",
   "metadata": {},
   "outputs": [
    {
     "name": "stdout",
     "output_type": "stream",
     "text": [
      "with return\n",
      "with return\n",
      "False\n",
      "without return\n",
      "without return\n",
      "None\n",
      "All numbers between 0 and 20: even or not\n",
      "0 even\n",
      "1 odd\n",
      "2 even\n",
      "3 odd\n",
      "4 even\n",
      "5 odd\n",
      "6 even\n",
      "7 odd\n",
      "8 even\n",
      "9 odd\n",
      "10 even\n",
      "11 odd\n",
      "12 even\n",
      "13 odd\n",
      "14 even\n",
      "15 odd\n",
      "16 even\n",
      "17 odd\n",
      "18 even\n",
      "19 odd\n"
     ]
    }
   ],
   "source": [
    "def is_even_with_return(i):\n",
    "    \"\"\"\n",
    "    Input: i, a positive int\n",
    "    Returns True if i is even, otherwise False\n",
    "    \"\"\"\n",
    "    print('with return')\n",
    "    remainder = i % 2\n",
    "    return remainder == 0\n",
    "\n",
    "is_even_with_return(3)\n",
    "print(is_even_with_return(3))\n",
    "\n",
    "def is_even_without_return(i):\n",
    "    \"\"\"\n",
    "    Input: i, a positive int\n",
    "    Does not return anything\n",
    "    \"\"\"\n",
    "    print('without return')\n",
    "    remainder = i % 2\n",
    "    \n",
    "is_even_without_return(3)\n",
    "print(is_even_without_return(3))\n",
    "def is_even(i):\n",
    "    \"\"\"\n",
    "    Input: i, a positive int\n",
    "    Returns True if i is even, otherwise False\n",
    "    \"\"\"\n",
    "    remainder = i % 2\n",
    "    return remainder == 0\n",
    "print(\"All numbers between 0 and 20: even or not\")\n",
    "\n",
    "for i in range(20):\n",
    "    if is_even(i):\n",
    "        print(i, \"even\")\n",
    "    else:\n",
    "        print(i, \"odd\")\n"
   ]
  },
  {
   "cell_type": "markdown",
   "id": "9124a2ff",
   "metadata": {},
   "source": [
    "# 2"
   ]
  },
  {
   "cell_type": "code",
   "execution_count": 2,
   "id": "26604177",
   "metadata": {},
   "outputs": [
    {
     "name": "stdout",
     "output_type": "stream",
     "text": [
      "0.998046875 is close to the cube root of 1\n",
      "2.154541015625 is close to the cube root of 10\n",
      "4.6417236328125 is close to the cube root of 100\n",
      "9.999990463256836 is close to the cube root of 1000\n",
      "21.54434099793434 is close to the cube root of 10000\n"
     ]
    }
   ],
   "source": [
    "def bisection_cuberoot_approx(x, epsilon):\n",
    "    \"\"\"\n",
    "    Input: x, an integer\n",
    "    Uses bisection to approximate the cube root of x to within epsilon\n",
    "    Returns: a float approximating the cube root of x\n",
    "    \"\"\"\n",
    "    low = 0.0\n",
    "    high = x\n",
    "    guess = (high + low) / 2.0\n",
    "    while abs(guess**3 - x) >= epsilon:\n",
    "        if guess**3 < x:\n",
    "            low = guess\n",
    "        else:\n",
    "            high = guess\n",
    "        guess = (high + low) / 2.0\n",
    "    return guess\n",
    "\n",
    "x = 1\n",
    "while x <= 10000:\n",
    "    approx = bisection_cuberoot_approx(x, 0.01)\n",
    "    print(approx, \"is close to the cube root of\", x)\n",
    "    x *= 10"
   ]
  },
  {
   "cell_type": "markdown",
   "id": "c85c5f95",
   "metadata": {},
   "source": [
    "# 3"
   ]
  },
  {
   "cell_type": "code",
   "execution_count": 3,
   "id": "e14e695d",
   "metadata": {
    "scrolled": true
   },
   "outputs": [
    {
     "name": "stdout",
     "output_type": "stream",
     "text": [
      "inside func_a\n",
      "None\n",
      "inside func_b\n",
      "7\n",
      "inside func_c\n",
      "inside func_a\n",
      "None\n"
     ]
    }
   ],
   "source": [
    "def func_a():\n",
    "    print('inside func_a')\n",
    "def func_b(y):\n",
    "    print('inside func_b')\n",
    "    return y\n",
    "def func_c(z):\n",
    "    print('inside func_c')\n",
    "    return z()\n",
    "print(func_a()) \n",
    "print(5 + func_b(2)) \n",
    "print(func_c(func_a)) \n"
   ]
  },
  {
   "cell_type": "markdown",
   "id": "cbf3ab37",
   "metadata": {},
   "source": [
    "# 4"
   ]
  },
  {
   "cell_type": "code",
   "execution_count": 4,
   "id": "af567d93",
   "metadata": {},
   "outputs": [
    {
     "name": "stdout",
     "output_type": "stream",
     "text": [
      "7\n"
     ]
    }
   ],
   "source": [
    "def f():\n",
    "    def x(a, b):\n",
    "        return a + b\n",
    "    return x\n",
    "val = f()(3, 4)\n",
    "print(val)"
   ]
  },
  {
   "cell_type": "markdown",
   "id": "9915934c",
   "metadata": {},
   "source": [
    "# 5"
   ]
  },
  {
   "cell_type": "code",
   "execution_count": 5,
   "id": "1e0a36da",
   "metadata": {},
   "outputs": [
    {
     "name": "stdout",
     "output_type": "stream",
     "text": [
      "2\n",
      "5\n",
      "5\n",
      "6\n",
      "5\n",
      "5\n"
     ]
    }
   ],
   "source": [
    "def f(y):\n",
    "    x = 1\n",
    "    x += 1\n",
    "    print(x)\n",
    "x = 5\n",
    "f(x)\n",
    "print(x)\n",
    "def g(y):\n",
    "    print(x)\n",
    "    print(x + 1)\n",
    "x = 5\n",
    "g(x)\n",
    "print(x)\n",
    "def h(y):\n",
    "    pass\n",
    "x = 5\n",
    "h(x)\n",
    "print(x)\n"
   ]
  },
  {
   "cell_type": "markdown",
   "id": "70fb6fb2",
   "metadata": {},
   "source": [
    "# 6"
   ]
  },
  {
   "cell_type": "code",
   "execution_count": 6,
   "id": "0391b8b7",
   "metadata": {},
   "outputs": [
    {
     "name": "stdout",
     "output_type": "stream",
     "text": [
      "with return\n",
      "with return\n",
      "False\n",
      "without return\n",
      "without return\n",
      "None\n",
      "All numbers between 0 and 20: even or not\n",
      "0 even\n",
      "1 odd\n",
      "2 even\n",
      "3 odd\n",
      "4 even\n",
      "5 odd\n",
      "6 even\n",
      "7 odd\n",
      "8 even\n",
      "9 odd\n",
      "10 even\n",
      "11 odd\n",
      "12 even\n",
      "13 odd\n",
      "14 even\n",
      "15 odd\n",
      "16 even\n",
      "17 odd\n",
      "18 even\n",
      "19 odd\n"
     ]
    }
   ],
   "source": [
    "def is_even_with_return(i):\n",
    "    \"\"\"\n",
    "    Input: i, a positive int\n",
    "    Returns True if i is even, otherwise False\n",
    "    \"\"\"\n",
    "    print('with return')\n",
    "    remainder = i % 2\n",
    "    return remainder == 0\n",
    "\n",
    "is_even_with_return(3)\n",
    "print(is_even_with_return(3))\n",
    "\n",
    "def is_even_without_return(i):\n",
    "    \"\"\"\n",
    "    Input: i, a positive int\n",
    "    Does not return anything\n",
    "    \"\"\"\n",
    "    print('without return')\n",
    "    remainder = i % 2\n",
    "    \n",
    "is_even_without_return(3)\n",
    "print(is_even_without_return(3))\n",
    "\n",
    "def is_even(i):\n",
    "    \"\"\"\n",
    "    Input: i, a positive int\n",
    "    Returns True if i is even, otherwise False\n",
    "    \"\"\"\n",
    "    remainder = i % 2\n",
    "    return remainder == 0\n",
    "\n",
    "print(\"All numbers between 0 and 20: even or not\")\n",
    "\n",
    "for i in range(20):\n",
    "    if is_even(i):\n",
    "        print(i, \"even\")\n",
    "    else:\n",
    "        print(i, \"odd\")\n"
   ]
  },
  {
   "cell_type": "markdown",
   "id": "70d4b28d",
   "metadata": {},
   "source": [
    "# 7"
   ]
  },
  {
   "cell_type": "code",
   "execution_count": 7,
   "id": "78989401",
   "metadata": {},
   "outputs": [
    {
     "name": "stdout",
     "output_type": "stream",
     "text": [
      "0.998046875 is close to the cube root of 1\n",
      "2.154541015625 is close to the cube root of 10\n",
      "4.6417236328125 is close to the cube root of 100\n",
      "9.999990463256836 is close to the cube root of 1000\n",
      "21.54434099793434 is close to the cube root of 10000\n"
     ]
    }
   ],
   "source": [
    "def bisection_cuberoot_approximation(x, epsilon):\n",
    "    \"\"\"\n",
    "    Input: x, an integer\n",
    "    Uses bisection to approximate the cube root of x within epsilon\n",
    "    Returns: a float approximation of the cube root of x\n",
    "    \"\"\"\n",
    "    low_limit = 0.0\n",
    "    high_limit = x\n",
    "    current_guess = (high_limit + low_limit) / 2.0\n",
    "\n",
    "    while abs(current_guess**3 - x) >= epsilon:\n",
    "        if current_guess**3 < x:\n",
    "            low_limit = current_guess\n",
    "        else:\n",
    "            high_limit = current_guess\n",
    "        current_guess = (high_limit + low_limit) / 2.0\n",
    "\n",
    "    return current_guess\n",
    "\n",
    "x_value = 1\n",
    "while x_value <= 10000:\n",
    "    approximation = bisection_cuberoot_approximation(x_value, 0.01)\n",
    "    print(approximation, \"is close to the cube root of\", x_value)\n",
    "    x_value *= 10\n"
   ]
  },
  {
   "cell_type": "markdown",
   "id": "85c7de83",
   "metadata": {},
   "source": [
    "# 8"
   ]
  },
  {
   "cell_type": "code",
   "execution_count": 9,
   "id": "6139d894",
   "metadata": {},
   "outputs": [
    {
     "name": "stdout",
     "output_type": "stream",
     "text": [
      "inside func_a\n",
      "None\n",
      "inside func_b\n",
      "7\n",
      "inside func_c\n",
      "inside func_a\n",
      "None\n"
     ]
    }
   ],
   "source": [
    "def function_a():\n",
    "    print('inside function_a')\n",
    "\n",
    "def function_b(parameter_y):\n",
    "    print('inside function_b')\n",
    "    return parameter_y\n",
    "\n",
    "def function_c(parameter_z):\n",
    "    print('inside function_c')\n",
    "    return parameter_z()\n",
    "\n",
    "print(function_a())          \n",
    "print(5 + function_b(2))      \n",
    "print(function_c(function_a))\n"
   ]
  },
  {
   "cell_type": "markdown",
   "id": "6b630786",
   "metadata": {},
   "source": [
    "# 9"
   ]
  },
  {
   "cell_type": "code",
   "execution_count": 10,
   "id": "0cb30101",
   "metadata": {},
   "outputs": [
    {
     "name": "stdout",
     "output_type": "stream",
     "text": [
      "7\n"
     ]
    }
   ],
   "source": [
    "def f():\n",
    "    def x(a, b):\n",
    "        return a + b\n",
    "    return x\n",
    "val = f()(3, 4)\n",
    "print(val)"
   ]
  },
  {
   "cell_type": "markdown",
   "id": "29ad89d7",
   "metadata": {},
   "source": [
    "# 10"
   ]
  },
  {
   "cell_type": "code",
   "execution_count": 11,
   "id": "f7787c9c",
   "metadata": {},
   "outputs": [
    {
     "name": "stdout",
     "output_type": "stream",
     "text": [
      "2\n",
      "5\n",
      "5\n",
      "6\n",
      "5\n",
      "5\n"
     ]
    }
   ],
   "source": [
    "def f(y):\n",
    "    x = 1\n",
    "    x += 1\n",
    "    print(x)\n",
    "x = 5\n",
    "f(x)\n",
    "print(x)\n",
    "def g(y):\n",
    "    print(x)\n",
    "    print(x + 1)\n",
    "x = 5\n",
    "g(x)\n",
    "print(x)\n",
    "def h(y):\n",
    "    pass\n",
    "x = 5\n",
    "h(x)\n",
    "print(x)"
   ]
  },
  {
   "cell_type": "code",
   "execution_count": null,
   "id": "a2311d49",
   "metadata": {},
   "outputs": [],
   "source": []
  }
 ],
 "metadata": {
  "kernelspec": {
   "display_name": "Python 3 (ipykernel)",
   "language": "python",
   "name": "python3"
  },
  "language_info": {
   "codemirror_mode": {
    "name": "ipython",
    "version": 3
   },
   "file_extension": ".py",
   "mimetype": "text/x-python",
   "name": "python",
   "nbconvert_exporter": "python",
   "pygments_lexer": "ipython3",
   "version": "3.10.9"
  }
 },
 "nbformat": 4,
 "nbformat_minor": 5
}
