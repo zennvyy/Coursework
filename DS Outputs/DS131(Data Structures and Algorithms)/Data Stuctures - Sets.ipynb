{
 "cells": [
  {
   "cell_type": "markdown",
   "id": "3c1781d5",
   "metadata": {},
   "source": [
    "$\\textbf{DS 131 - DATA STRUCTURES and ALGORITHMS} \\\\ \\text{1Q SY2324}$\n",
    "\n",
    "$\\text{Edgar M. Adina} \\\\ \\textit{Instructor}$"
   ]
  },
  {
   "cell_type": "markdown",
   "id": "147c1a56",
   "metadata": {},
   "source": [
    "## <center> DATA STRUCTURES - SETS"
   ]
  },
  {
   "cell_type": "markdown",
   "id": "7be29af7",
   "metadata": {},
   "source": [
    "Another data type in Python is **sets**. It is a type that could store an unordered collection with no duplicate elements. It also supports the mathematical operations like union, intersection, difference, and symmetric difference. It is defined by using a pair of braces $\\{ \\}$, and its elements are separated by commas.\n"
   ]
  },
  {
   "cell_type": "code",
   "execution_count": 1,
   "id": "0bae9754",
   "metadata": {},
   "outputs": [
    {
     "data": {
      "text/plain": [
       "{1, 2, 3, 4, 5, 6}"
      ]
     },
     "execution_count": 1,
     "metadata": {},
     "output_type": "execute_result"
    }
   ],
   "source": [
    "{3, 3, 2, 3, 1, 4, 5, 6, 4, 2}"
   ]
  },
  {
   "cell_type": "markdown",
   "id": "b38d3bda",
   "metadata": {},
   "source": [
    "One quick usage of this is to find out the unique elements in a string, list, or tuple."
   ]
  },
  {
   "cell_type": "markdown",
   "id": "7af949cd",
   "metadata": {},
   "source": [
    "**Example:** Find the unique elements in list [1, 2, 2, 3, 2, 1, 2]."
   ]
  },
  {
   "cell_type": "code",
   "execution_count": 2,
   "id": "3f51c266",
   "metadata": {},
   "outputs": [
    {
     "data": {
      "text/plain": [
       "{1, 2, 3}"
      ]
     },
     "execution_count": 2,
     "metadata": {},
     "output_type": "execute_result"
    }
   ],
   "source": [
    "set_1 = set([1, 2, 2, 3, 2, 1, 2])\n",
    "set_1"
   ]
  },
  {
   "cell_type": "markdown",
   "id": "161350e1",
   "metadata": {},
   "source": [
    "**Example:** Find the unique elements in tuple (2, 4, 6, 5,2)."
   ]
  },
  {
   "cell_type": "code",
   "execution_count": 3,
   "id": "d9abe649",
   "metadata": {},
   "outputs": [
    {
     "data": {
      "text/plain": [
       "{2, 4, 5, 6}"
      ]
     },
     "execution_count": 3,
     "metadata": {},
     "output_type": "execute_result"
    }
   ],
   "source": [
    "set_2 = set((2, 4, 6, 5, 2))\n",
    "set_2"
   ]
  },
  {
   "cell_type": "markdown",
   "id": "f52928c3",
   "metadata": {},
   "source": [
    "**Example:** Find the unique character in string “Mathematics”."
   ]
  },
  {
   "cell_type": "code",
   "execution_count": 4,
   "id": "660e6a81",
   "metadata": {},
   "outputs": [
    {
     "data": {
      "text/plain": [
       "{'M', 'a', 'c', 'e', 'h', 'i', 'm', 's', 't'}"
      ]
     },
     "execution_count": 4,
     "metadata": {},
     "output_type": "execute_result"
    }
   ],
   "source": [
    "set('Mathematics')"
   ]
  },
  {
   "cell_type": "markdown",
   "id": "f293861b",
   "metadata": {},
   "source": [
    "We mentioned that sets support the mathematical operations like union, intersection, difference, and symmetric difference."
   ]
  },
  {
   "cell_type": "markdown",
   "id": "8ee68542",
   "metadata": {},
   "source": [
    "**Example:** Get the union of set_1 and set_2."
   ]
  },
  {
   "cell_type": "code",
   "execution_count": 5,
   "id": "0a82711d",
   "metadata": {},
   "outputs": [
    {
     "name": "stdout",
     "output_type": "stream",
     "text": [
      "{1, 2, 3}\n",
      "{2, 4, 5, 6}\n"
     ]
    }
   ],
   "source": [
    "print(set_1)\n",
    "print(set_2)"
   ]
  },
  {
   "cell_type": "code",
   "execution_count": null,
   "id": "9aa7fd11",
   "metadata": {},
   "outputs": [],
   "source": [
    "set_1.union(set_2)"
   ]
  },
  {
   "cell_type": "markdown",
   "id": "6bcd574a",
   "metadata": {},
   "source": [
    "**Example:** Get the intersection of set_1 and set_2."
   ]
  },
  {
   "cell_type": "code",
   "execution_count": 6,
   "id": "64cc1e3f",
   "metadata": {},
   "outputs": [
    {
     "data": {
      "text/plain": [
       "{2}"
      ]
     },
     "execution_count": 6,
     "metadata": {},
     "output_type": "execute_result"
    }
   ],
   "source": [
    "set_1.intersection(set_2)"
   ]
  },
  {
   "cell_type": "markdown",
   "id": "d66b30cc",
   "metadata": {},
   "source": [
    "**Example:** Is set_1 a subset of {1, 2, 3, 3, 4, 5}?"
   ]
  },
  {
   "cell_type": "code",
   "execution_count": 7,
   "id": "6de9ed9f",
   "metadata": {},
   "outputs": [
    {
     "data": {
      "text/plain": [
       "True"
      ]
     },
     "execution_count": 7,
     "metadata": {},
     "output_type": "execute_result"
    }
   ],
   "source": [
    "set_1.issubset({1, 2, 3, 3, 4, 5})"
   ]
  },
  {
   "cell_type": "markdown",
   "id": "18cbeffb",
   "metadata": {},
   "source": [
    "### <center> EXERCISES"
   ]
  },
  {
   "cell_type": "markdown",
   "id": "ac8d5945",
   "metadata": {},
   "source": [
    "**1.** Get the unique element from (2, 3, 2, 3, 1, 2, 5)."
   ]
  },
  {
   "cell_type": "code",
   "execution_count": 8,
   "id": "8be127ef",
   "metadata": {},
   "outputs": [
    {
     "data": {
      "text/plain": [
       "[2, 3, 2, 3, 1, 2, 5]"
      ]
     },
     "execution_count": 8,
     "metadata": {},
     "output_type": "execute_result"
    }
   ],
   "source": [
    "set_1 = [2, 3, 2, 3, 1, 2, 5]\n",
    "set_1\n"
   ]
  },
  {
   "cell_type": "code",
   "execution_count": 9,
   "id": "7a2bc4a6",
   "metadata": {},
   "outputs": [
    {
     "data": {
      "text/plain": [
       "{1, 2, 3, 5}"
      ]
     },
     "execution_count": 9,
     "metadata": {},
     "output_type": "execute_result"
    }
   ],
   "source": [
    "my_list = [2, 3, 2, 3, 1, 2, 5]\n",
    "unique_elements = set(my_list)\n",
    "unique_elements"
   ]
  },
  {
   "cell_type": "markdown",
   "id": "efe37b97",
   "metadata": {},
   "source": [
    "**2.** Assign (2, 3, 2) to *set_a*, and (1, 2, 3) to *set_b*. Get the following:\n",
    "\n",
    "     (i) union of set_a and set_b\n",
    "\n",
    "     (ii) intersection of set_a and set_b\n",
    "\n",
    "     (iii) difference of set_a to set_b using difference method"
   ]
  },
  {
   "cell_type": "code",
   "execution_count": 10,
   "id": "4402e10e",
   "metadata": {},
   "outputs": [],
   "source": [
    "set_a = {2, 3, 2}\n",
    "set_b = {1, 2, 3}"
   ]
  },
  {
   "cell_type": "code",
   "execution_count": 11,
   "id": "d79e6be2",
   "metadata": {},
   "outputs": [],
   "source": [
    "union_result = set_a.union(set_b)\n",
    "intersection_result = set_a.intersection(set_b)"
   ]
  },
  {
   "cell_type": "code",
   "execution_count": 12,
   "id": "fb6280a9",
   "metadata": {},
   "outputs": [
    {
     "data": {
      "text/plain": [
       "({1, 2, 3}, {2, 3}, set())"
      ]
     },
     "execution_count": 12,
     "metadata": {},
     "output_type": "execute_result"
    }
   ],
   "source": [
    "difference_result = set_a.difference(set_b)\n",
    "union_result, intersection_result, difference_result\n"
   ]
  },
  {
   "cell_type": "code",
   "execution_count": null,
   "id": "f50a4bc4",
   "metadata": {},
   "outputs": [],
   "source": []
  }
 ],
 "metadata": {
  "kernelspec": {
   "display_name": "Python 3 (ipykernel)",
   "language": "python",
   "name": "python3"
  },
  "language_info": {
   "codemirror_mode": {
    "name": "ipython",
    "version": 3
   },
   "file_extension": ".py",
   "mimetype": "text/x-python",
   "name": "python",
   "nbconvert_exporter": "python",
   "pygments_lexer": "ipython3",
   "version": "3.10.9"
  }
 },
 "nbformat": 4,
 "nbformat_minor": 5
}
