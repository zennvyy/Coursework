{
 "cells": [
  {
   "cell_type": "markdown",
   "id": "46e9f497",
   "metadata": {},
   "source": [
    "$\\textbf{DS121 - STATISTICAL METHODS II} \\\\ \\texttt{2Q SY2324}$\n",
    "\n",
    "Instructor: EDGAR M. ADINA"
   ]
  },
  {
   "cell_type": "markdown",
   "id": "63789b97",
   "metadata": {},
   "source": [
    "# <center> Hypothesis Testing of Proportion"
   ]
  },
  {
   "cell_type": "markdown",
   "id": "5f74ce7c",
   "metadata": {},
   "source": [
    "A population proportion is the share of a population that belongs to a particular category.\n",
    "\n",
    "Hypothesis tests are used to check a claim about the size of that population proportion."
   ]
  },
  {
   "cell_type": "markdown",
   "id": "731089e6",
   "metadata": {},
   "source": [
    "#### Example"
   ]
  },
  {
   "cell_type": "markdown",
   "id": "fad48d5c",
   "metadata": {},
   "source": [
    "Consider the population of freshmen students of Mapua.\n",
    "\n",
    "     Population: Freshmen students of Mapua\n",
    "     Category: Graduate of Mapua Senior High School\n",
    "     \n",
    "Let us check the claim that \"more than 50% of freshmen students of Mapua are graduates of Mapua Senior High School\".\n",
    "\n",
    "By taking a sample of 400 randomly selected freshmen students of Mapu, we obtained the following information: \n",
    "\n",
    "     215 out of 400 freshmen students of Mapua were graduates of Mapua Senior High School\n",
    "\n",
    "\n",
    "The **sample proportion** is then: $\\frac{215}{400}=0.5375$  or 53.75%.\n",
    "\n",
    "From this sample data we check the indicated claim."
   ]
  },
  {
   "cell_type": "markdown",
   "id": "9c3130cf",
   "metadata": {},
   "source": [
    "### Defining the Claims"
   ]
  },
  {
   "cell_type": "markdown",
   "id": "cdad40c1",
   "metadata": {},
   "source": [
    "We need to define a **null hypothesis** ($H_0$) and an **alternative hypothesis** ($H_1$) based on the claim we are checking.\n",
    "\n",
    "The claim was: \"**More than 50%** of freshmen students of Mapua are graduates of Mapua Senior High School\"\n",
    "\n",
    "In this case, the parameter is the proportion of freshmen students of Mapua who are graduates of Mapua Senior High School ($p$).\n",
    "\n",
    "The null and alternative hypothesis are then:\n",
    "\n",
    "     Null hypothesis: 50% of freshmen students of Mapua are graduates of Mapua Senior High School.\n",
    "\n",
    "     Alternative hypothesis: More than 50% of freshmen students of Mapua are graduates of Mapua Senior High School.\n",
    "\n",
    "Which can be expressed with symbols as:"
   ]
  },
  {
   "cell_type": "markdown",
   "id": "625d8001",
   "metadata": {},
   "source": [
    "$$ H_0: p = 0.50 \\\\\n",
    "   H_1: p > 0.50\n",
    "$$"
   ]
  },
  {
   "cell_type": "markdown",
   "id": "a8da22b5",
   "metadata": {},
   "source": [
    "This is a **'right tailed'** test, because the alternative hypothesis claims that the proportion is **more than** in the null hypothesis.\n",
    "\n",
    "If the data supports the alternative hypothesis, we **reject** the null hypothesis and accept the alternative hypothesis."
   ]
  },
  {
   "cell_type": "markdown",
   "id": "6c61abd2",
   "metadata": {},
   "source": [
    "### Classical Approach"
   ]
  },
  {
   "cell_type": "markdown",
   "id": "8cb2402f",
   "metadata": {},
   "source": [
    "With Python use the scipy and math libraries to calculate the test statistic for a proportion."
   ]
  },
  {
   "cell_type": "code",
   "execution_count": 1,
   "id": "e3f0f4b4",
   "metadata": {},
   "outputs": [
    {
     "name": "stdout",
     "output_type": "stream",
     "text": [
      "1.4999999999999991\n"
     ]
    }
   ],
   "source": [
    "import scipy.stats as stats\n",
    "import math\n",
    "\n",
    "# Specify the number of occurrences (x), the sample size (n), and the proportion claimed in the null-hypothesis (p)\n",
    "x = 215\n",
    "n = 400\n",
    "p = 0.50\n",
    "\n",
    "# Calculate the sample proportion\n",
    "p_hat = x/n\n",
    "\n",
    "# Calculate and print the test statistic\n",
    "print((p_hat-p)/(math.sqrt((p*(1-p))/(n))))"
   ]
  },
  {
   "cell_type": "markdown",
   "id": "5d67a95a",
   "metadata": {},
   "source": [
    "Now, we use the Scipy Stats library **norm.ppf()** function find the Z-value (critical value) for a significance level $\\alpha = 0.05$ (default) in the right tail."
   ]
  },
  {
   "cell_type": "code",
   "execution_count": 2,
   "id": "80194c9b",
   "metadata": {},
   "outputs": [
    {
     "name": "stdout",
     "output_type": "stream",
     "text": [
      "1.6448536269514722\n"
     ]
    }
   ],
   "source": [
    "import scipy.stats as stats\n",
    "print(stats.norm.ppf(1-0.05))"
   ]
  },
  {
   "cell_type": "markdown",
   "id": "ed0c604d",
   "metadata": {},
   "source": [
    "The computed statistic is less than the critical value. This means that we cannot reject the null hypothesis."
   ]
  },
  {
   "cell_type": "markdown",
   "id": "692abaec",
   "metadata": {},
   "source": [
    "Thus, at $\\alpha=5%$, there is no sufficient evidence to show that more than 50% of freshmen students of Mapua are graduates of Mapua Senior High School."
   ]
  },
  {
   "cell_type": "markdown",
   "id": "494afe93",
   "metadata": {},
   "source": [
    "### p-value Approach"
   ]
  },
  {
   "cell_type": "markdown",
   "id": "98ddd680",
   "metadata": {},
   "source": [
    "Similarly, we use the Scipy Stats library norm.cdf() function find the P-value of a Z-value bigger than 1.49999999991:"
   ]
  },
  {
   "cell_type": "code",
   "execution_count": 3,
   "id": "63426f9a",
   "metadata": {},
   "outputs": [
    {
     "name": "stdout",
     "output_type": "stream",
     "text": [
      "0.0668072012688592\n"
     ]
    }
   ],
   "source": [
    "import scipy.stats as stats\n",
    "print(1-stats.norm.cdf(1.499999999999991))"
   ]
  },
  {
   "cell_type": "markdown",
   "id": "baaca255",
   "metadata": {},
   "source": [
    "The p-value is greater than the significance level of 5%. Meaning, the probability of committing a Type I error if we reject the null hypothesis now is 6.68%. Thus, we cannot reject the null hypothesis. \n",
    "\n",
    "This agrees with the result in the classical approach."
   ]
  },
  {
   "cell_type": "markdown",
   "id": "f60aabe6",
   "metadata": {},
   "source": [
    "## Exercise"
   ]
  },
  {
   "cell_type": "markdown",
   "id": "b6b9d13f",
   "metadata": {},
   "source": [
    "**No. 1.**  Chronic pain is often defined as pain that occurs constantly and flares up frequently, is not caused by cancer, and is experienced at least once a month for a 1-year period of time. Many articles have been written about the relationship between chronic pain and the age of the patient. In a survey conducted on behalf of the **American Chronic Pain Association** in 2004, a random cross section of 800 adults who suffer from chronic pain found that 424 of the 800 participants in the survey were above the age of 50. Using the data in the survey, is there substantial evidence ($\\alpha=$ .05) that more than half of persons suffering from chronic pain are over 50 years of age?"
   ]
  },
  {
   "cell_type": "code",
   "execution_count": 5,
   "id": "2398b9a6",
   "metadata": {},
   "outputs": [
    {
     "name": "stdout",
     "output_type": "stream",
     "text": [
      "Z-score:  1.6970562748477156\n",
      "Critical value:  1.6448536269514722\n",
      "We reject the null hypothesis. There is enough evidence that more than half of persons suffering from chronic pain are over 50 years of age.\n"
     ]
    }
   ],
   "source": [
    "import scipy.stats as stats\n",
    "import math\n",
    "\n",
    "# Specify the number of occurrences (x), the sample size (n), and the proportion claimed in the null-hypothesis (p)\n",
    "x = 424\n",
    "n = 800\n",
    "p = 0.50\n",
    "\n",
    "# Calculate the sample proportion\n",
    "p_hat = x/n\n",
    "\n",
    "# Calculate and print the test statistic\n",
    "z = (p_hat-p)/(math.sqrt((p*(1-p))/(n)))\n",
    "print(\"Z-score: \", z)\n",
    "\n",
    "# Calculate and print the critical value\n",
    "critical_value = stats.norm.ppf(1-0.05)\n",
    "print(\"Critical value: \", critical_value)\n",
    "\n",
    "# Check if we can reject the null hypothesis\n",
    "if z > critical_value:\n",
    "    print(\"We reject the null hypothesis. There is enough evidence that more than half of persons suffering from chronic pain are over 50 years of age.\")\n",
    "else:\n",
    "    print(\"We fail to reject the null hypothesis. There is not substantialenough evidence that more than half of persons suffering from chronic pain are over 50 years of age.\")\n"
   ]
  },
  {
   "cell_type": "markdown",
   "id": "11f50d3d",
   "metadata": {},
   "source": [
    "**No. 2.** National public opinion polls are often based on as few as 1,500 persons in a random sampling of public sentiment on issues of public interest. These surveys are often done in person because the response rate for a mailed survey is very low and telephone interviews tend to reach a larger proportion of older persons than would be represented in the public as a whole. Suppose a random sample of 1,500 registered voters was surveyed about energy issues. Results showed that 230 of the 1,500 responded that they would favor drilling for oil in national parks. \n",
    "\n",
    "A congressman has claimed that over half of all registered voters would support drilling in national parks. Use the survey data to evaluate the congressman’s claim. Use $\\alpha$ .05."
   ]
  },
  {
   "cell_type": "code",
   "execution_count": 7,
   "id": "76d2cf3f",
   "metadata": {},
   "outputs": [
    {
     "name": "stdout",
     "output_type": "stream",
     "text": [
      "Z-score:  -26.852684533704757\n",
      "Critical value:  1.6448536269514722\n",
      "We fail to reject the null hypothesis. There is not substantial evidence that more than half of all registered voters would support drilling in national parks.\n"
     ]
    }
   ],
   "source": [
    "# Specify the number of occurrences (x), the sample size (n), and the proportion claimed in the null-hypothesis (p)\n",
    "x = 230\n",
    "n = 1500\n",
    "p = 0.50\n",
    "\n",
    "# Calculate the sample proportion\n",
    "p_hat = x/n\n",
    "\n",
    "# Calculate and print the test statistic\n",
    "z = (p_hat-p)/(math.sqrt((p*(1-p))/(n)))\n",
    "print(\"Z-score: \", z)\n",
    "\n",
    "# Calculate and print the critical value\n",
    "critical_value = stats.norm.ppf(1-0.05)\n",
    "print(\"Critical value: \", critical_value)\n",
    "\n",
    "# Check if we can reject the null hypothesis\n",
    "if z < critical_value:\n",
    "    print(\"We fail to reject the null hypothesis. There is not substantial evidence that more than half of all registered voters would support drilling in national parks.\")\n",
    "else:\n",
    "    print(\"We reject the null hypothesis. There is substantial evidence that more than half of all registered voters would support drilling in national parks.\")"
   ]
  },
  {
   "cell_type": "code",
   "execution_count": null,
   "id": "e7087dee",
   "metadata": {},
   "outputs": [],
   "source": []
  }
 ],
 "metadata": {
  "kernelspec": {
   "display_name": "Python 3 (ipykernel)",
   "language": "python",
   "name": "python3"
  },
  "language_info": {
   "codemirror_mode": {
    "name": "ipython",
    "version": 3
   },
   "file_extension": ".py",
   "mimetype": "text/x-python",
   "name": "python",
   "nbconvert_exporter": "python",
   "pygments_lexer": "ipython3",
   "version": "3.10.9"
  }
 },
 "nbformat": 4,
 "nbformat_minor": 5
}
