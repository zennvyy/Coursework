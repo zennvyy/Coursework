{
 "cells": [
  {
   "cell_type": "markdown",
   "id": "f216da82",
   "metadata": {},
   "source": [
    "$\\textbf{DS 131 - DATA STRUCTURES and ALGORITHMS} \\\\ \\text{1Q SY2324}$\n",
    "\n",
    "$\\text{Edgar M. Adina} \\\\ \\textit{Instructor}$"
   ]
  },
  {
   "cell_type": "markdown",
   "id": "0b660a78",
   "metadata": {},
   "source": [
    "## <center> DATA STRUCTURES - ARRAYS"
   ]
  },
  {
   "cell_type": "markdown",
   "id": "705a7615",
   "metadata": {},
   "source": [
    "Numpy is probably the most fundamental numerical computing module in Python. NumPy is important in scientific computing, it is coded both in Python and C (for speed). Some of the important features for Numpy are:\n",
    "\n",
    "     (i) a powerful N-dimensional array object\n",
    "\n",
    "     (ii) sophisticated (broadcasting) functions\n",
    "\n",
    "     (iii) tools for integrating C/C++ and Fortran code\n",
    "\n",
    "      (iv) useful linear algebra, Fourier transform, and random number capabilities"
   ]
  },
  {
   "cell_type": "markdown",
   "id": "ce62d1fe",
   "metadata": {},
   "source": [
    "This lesson only focuses on the Numpy array which is related to the data structure. In order to use Numpy module, we need to import it first. A conventional way to import it is to use “np” as a shortened name."
   ]
  },
  {
   "cell_type": "code",
   "execution_count": 1,
   "id": "42ebeb17",
   "metadata": {},
   "outputs": [],
   "source": [
    "import numpy as np"
   ]
  },
  {
   "cell_type": "markdown",
   "id": "e3584168",
   "metadata": {},
   "source": [
    "To define an array in Python, you could use the $np.array$ function to convert a list."
   ]
  },
  {
   "cell_type": "markdown",
   "id": "a743ab42",
   "metadata": {},
   "source": [
    "**Example:** Create the following arrays:"
   ]
  },
  {
   "cell_type": "markdown",
   "id": "357f84c9",
   "metadata": {},
   "source": [
    "$ x= \\left( \\begin{array}{ccc}  1 & 4 & 3 \\end{array} \\right) $\n",
    "\n",
    "$ y= \\left( \\begin{array}{ccc}  1 & 4 & 3 \\\\ 9 & 2 & 7 \\end{array} \\right) $"
   ]
  },
  {
   "cell_type": "code",
   "execution_count": 2,
   "id": "45b79f80",
   "metadata": {},
   "outputs": [
    {
     "data": {
      "text/plain": [
       "array([1, 4, 3])"
      ]
     },
     "execution_count": 2,
     "metadata": {},
     "output_type": "execute_result"
    }
   ],
   "source": [
    "x = np.array([1, 4, 3])\n",
    "x"
   ]
  },
  {
   "cell_type": "code",
   "execution_count": 3,
   "id": "f7abd3c1",
   "metadata": {},
   "outputs": [
    {
     "data": {
      "text/plain": [
       "array([[1, 4, 3],\n",
       "       [9, 2, 7]])"
      ]
     },
     "execution_count": 3,
     "metadata": {},
     "output_type": "execute_result"
    }
   ],
   "source": [
    "y = np.array([[1, 4, 3], [9, 2, 7]])\n",
    "y"
   ]
  },
  {
   "cell_type": "markdown",
   "id": "ab9ddd61",
   "metadata": {},
   "source": [
    "*Remark:* A 2-D array could use a nested lists to represent, with the inner list represent each row."
   ]
  },
  {
   "cell_type": "markdown",
   "id": "d3a624ee",
   "metadata": {},
   "source": [
    "Many times we would like to know the size or length of an array. The array shape attribute is called on an array M and returns a 2 × 3 array where the first element is the number of rows in the matrix M and the second element is the number of columns in M. Note that the output of the shape attribute is a tuple. The size attribute is called on an array M and returns the total number of elements in matrix M."
   ]
  },
  {
   "cell_type": "markdown",
   "id": "2e1ba77b",
   "metadata": {},
   "source": [
    "**Example:** Find the rows, columns and the total size for array y."
   ]
  },
  {
   "cell_type": "code",
   "execution_count": 4,
   "id": "4525a911",
   "metadata": {},
   "outputs": [
    {
     "data": {
      "text/plain": [
       "(2, 3)"
      ]
     },
     "execution_count": 4,
     "metadata": {},
     "output_type": "execute_result"
    }
   ],
   "source": [
    "y.shape"
   ]
  },
  {
   "cell_type": "code",
   "execution_count": 5,
   "id": "072892e5",
   "metadata": {},
   "outputs": [
    {
     "data": {
      "text/plain": [
       "6"
      ]
     },
     "execution_count": 5,
     "metadata": {},
     "output_type": "execute_result"
    }
   ],
   "source": [
    "y.size"
   ]
  },
  {
   "cell_type": "markdown",
   "id": "3dbb6ce9",
   "metadata": {},
   "source": [
    "*Remark:* You may notice the difference that we only use y.shape instead of y.shape(), this is because shape is an attribute rather than a method in this array object."
   ]
  },
  {
   "cell_type": "markdown",
   "id": "5a7ae915",
   "metadata": {},
   "source": [
    "Very often we would like to generate arrays that have a structure or pattern. For instance, we may wish to create the array z = [1 2 3 … 2000]. It would be very cumbersome to type the entire description of z into Python. For generating arrays that are in order and evenly spaced, it is useful to use the arange function in Numpy."
   ]
  },
  {
   "cell_type": "markdown",
   "id": "17a329a5",
   "metadata": {},
   "source": [
    "**Example:** Create an array z from 1 to 2000 with an increment 1."
   ]
  },
  {
   "cell_type": "code",
   "execution_count": 6,
   "id": "a562088d",
   "metadata": {},
   "outputs": [
    {
     "data": {
      "text/plain": [
       "array([   1,    2,    3, ..., 1997, 1998, 1999])"
      ]
     },
     "execution_count": 6,
     "metadata": {},
     "output_type": "execute_result"
    }
   ],
   "source": [
    "z = np.arange(1, 2000, 1)\n",
    "z"
   ]
  },
  {
   "cell_type": "markdown",
   "id": "1e034538",
   "metadata": {},
   "source": [
    "Using the *np.arange*, we could create $z$ easily. The first two numbers are the start and end of the sequence, and the last one is the increment. Since it is very common to have an increment of 1, if an increment is not specified, Python will use a default value of 1. Therefore np.arange(1, 2000) will have the same result as np.arange(1, 2000, 1). Negative or noninteger increments can also be used. If the increment “misses” the last value, it will only extend until the value just before the ending value. For example, x = np.arange(1,8,2) would be [1, 3, 5, 7]."
   ]
  },
  {
   "cell_type": "markdown",
   "id": "54942773",
   "metadata": {},
   "source": [
    "**Example:** Generate an array with [0.5, 1, 1.5, 2, 2.5]."
   ]
  },
  {
   "cell_type": "code",
   "execution_count": 7,
   "id": "17e61fd9",
   "metadata": {},
   "outputs": [
    {
     "data": {
      "text/plain": [
       "array([0.5, 1. , 1.5, 2. , 2.5])"
      ]
     },
     "execution_count": 7,
     "metadata": {},
     "output_type": "execute_result"
    }
   ],
   "source": [
    "np.arange(0.5, 3, 0.5)"
   ]
  },
  {
   "cell_type": "markdown",
   "id": "a036b1cb",
   "metadata": {},
   "source": [
    "Sometimes we want to guarantee a start and end point for an array but still have evenly spaced elements. For instance, we may want an array that starts at 1, ends at 8, and has exactly 10 elements. For this purpose you can use the function *np.linspace. linspace* takes three input values separated by commas. So **A = linspace(a,b,n)** generates an array of $n$ equally spaced elements starting from $a$ and ending at $b$."
   ]
  },
  {
   "cell_type": "markdown",
   "id": "62e727fb",
   "metadata": {},
   "source": [
    "**Example:** Use linspace to generate an array starting at 3, ending at 9, and containing 10 elements."
   ]
  },
  {
   "cell_type": "code",
   "execution_count": 8,
   "id": "66413cf9",
   "metadata": {},
   "outputs": [
    {
     "data": {
      "text/plain": [
       "array([3.        , 3.66666667, 4.33333333, 5.        , 5.66666667,\n",
       "       6.33333333, 7.        , 7.66666667, 8.33333333, 9.        ])"
      ]
     },
     "execution_count": 8,
     "metadata": {},
     "output_type": "execute_result"
    }
   ],
   "source": [
    "np.linspace(3, 9, 10)"
   ]
  },
  {
   "cell_type": "markdown",
   "id": "b5900850",
   "metadata": {},
   "source": [
    "Getting access to the 1D numpy array is similar to what we described for lists or tuples, it has an index to indicate the location."
   ]
  },
  {
   "cell_type": "markdown",
   "id": "b29ac8d5",
   "metadata": {},
   "source": [
    "**Example:**"
   ]
  },
  {
   "cell_type": "code",
   "execution_count": 9,
   "id": "9132538c",
   "metadata": {},
   "outputs": [
    {
     "data": {
      "text/plain": [
       "4"
      ]
     },
     "execution_count": 9,
     "metadata": {},
     "output_type": "execute_result"
    }
   ],
   "source": [
    "# get the 2nd element of x\n",
    "x[1]"
   ]
  },
  {
   "cell_type": "code",
   "execution_count": 10,
   "id": "d55a470b",
   "metadata": {},
   "outputs": [
    {
     "data": {
      "text/plain": [
       "array([4, 3])"
      ]
     },
     "execution_count": 10,
     "metadata": {},
     "output_type": "execute_result"
    }
   ],
   "source": [
    "# get all the element after the 2nd element of x\n",
    "x[1:]"
   ]
  },
  {
   "cell_type": "code",
   "execution_count": 11,
   "id": "c0436d5f",
   "metadata": {},
   "outputs": [
    {
     "data": {
      "text/plain": [
       "3"
      ]
     },
     "execution_count": 11,
     "metadata": {},
     "output_type": "execute_result"
    }
   ],
   "source": [
    "# get the last element of x\n",
    "x[-1]"
   ]
  },
  {
   "cell_type": "markdown",
   "id": "9cdead8c",
   "metadata": {},
   "source": [
    "For 2D arrays, it is slightly different, since we have rows and columns. To get access to the data in a 2D array M, we need to use M[r, c], that the row r and column c are separated by comma. This is referred to as array indexing. The r and c could be single number, a list and so on. If you only think about the row index or the column index, than it is similar to the 1D array. Let’s use the $ x= \\left( \\begin{array}{ccc}  1 & 4 & 3 \\\\ 9 & 2 & 7 \\end{array} \\right) $ as an example."
   ]
  },
  {
   "cell_type": "markdown",
   "id": "dea63014",
   "metadata": {},
   "source": [
    "**Example:**"
   ]
  },
  {
   "cell_type": "code",
   "execution_count": 12,
   "id": "973b4980",
   "metadata": {},
   "outputs": [
    {
     "data": {
      "text/plain": [
       "4"
      ]
     },
     "execution_count": 12,
     "metadata": {},
     "output_type": "execute_result"
    }
   ],
   "source": [
    "y[0,1]"
   ]
  },
  {
   "cell_type": "markdown",
   "id": "960eeb10",
   "metadata": {},
   "source": [
    "**Example:** Get the first row of array y."
   ]
  },
  {
   "cell_type": "code",
   "execution_count": 13,
   "id": "590f5783",
   "metadata": {},
   "outputs": [
    {
     "data": {
      "text/plain": [
       "array([1, 4, 3])"
      ]
     },
     "execution_count": 13,
     "metadata": {},
     "output_type": "execute_result"
    }
   ],
   "source": [
    "y[0, :]"
   ]
  },
  {
   "cell_type": "markdown",
   "id": "47a31951",
   "metadata": {},
   "source": [
    "**Example:** Get the last column of array y."
   ]
  },
  {
   "cell_type": "code",
   "execution_count": 14,
   "id": "afbebffa",
   "metadata": {},
   "outputs": [
    {
     "data": {
      "text/plain": [
       "array([3, 7])"
      ]
     },
     "execution_count": 14,
     "metadata": {},
     "output_type": "execute_result"
    }
   ],
   "source": [
    "y[:, -1]"
   ]
  },
  {
   "cell_type": "markdown",
   "id": "4b278fda",
   "metadata": {},
   "source": [
    "**Example:** Get the first and third column of array y."
   ]
  },
  {
   "cell_type": "code",
   "execution_count": 15,
   "id": "3faf8f38",
   "metadata": {},
   "outputs": [
    {
     "data": {
      "text/plain": [
       "array([[1, 3],\n",
       "       [9, 7]])"
      ]
     },
     "execution_count": 15,
     "metadata": {},
     "output_type": "execute_result"
    }
   ],
   "source": [
    "y[:, [0, 2]]"
   ]
  },
  {
   "cell_type": "markdown",
   "id": "b16b3a1e",
   "metadata": {},
   "source": [
    "There are some predefined arrays that are really useful. For example, the *np.zeros*, *np.ones*, and *np.empty* are 3 useful functions."
   ]
  },
  {
   "cell_type": "markdown",
   "id": "8012fa2b",
   "metadata": {},
   "source": [
    "Check the following **examples**."
   ]
  },
  {
   "cell_type": "code",
   "execution_count": 16,
   "id": "91776d8f",
   "metadata": {},
   "outputs": [
    {
     "data": {
      "text/plain": [
       "array([[0., 0., 0., 0., 0.],\n",
       "       [0., 0., 0., 0., 0.],\n",
       "       [0., 0., 0., 0., 0.]])"
      ]
     },
     "execution_count": 16,
     "metadata": {},
     "output_type": "execute_result"
    }
   ],
   "source": [
    "np.zeros((3, 5))"
   ]
  },
  {
   "cell_type": "code",
   "execution_count": 17,
   "id": "cd447a77",
   "metadata": {},
   "outputs": [
    {
     "data": {
      "text/plain": [
       "array([[1., 1., 1.],\n",
       "       [1., 1., 1.],\n",
       "       [1., 1., 1.],\n",
       "       [1., 1., 1.],\n",
       "       [1., 1., 1.]])"
      ]
     },
     "execution_count": 17,
     "metadata": {},
     "output_type": "execute_result"
    }
   ],
   "source": [
    "np.ones((5, 3))"
   ]
  },
  {
   "cell_type": "markdown",
   "id": "821819fa",
   "metadata": {},
   "source": [
    "*Remark:* The shape of the array is defined in a tuple with row as the first item, and column as the second. If you only need a 1D array, then it could be only one number as the input: np.ones(5)."
   ]
  },
  {
   "cell_type": "markdown",
   "id": "65fff696",
   "metadata": {},
   "source": [
    "**Example:** Generate a 1D empty array with 3 elements."
   ]
  },
  {
   "cell_type": "code",
   "execution_count": 18,
   "id": "e53ecef8",
   "metadata": {},
   "outputs": [
    {
     "data": {
      "text/plain": [
       "array([4.24399158e-314, 4.23762559e-311, 4.24186959e-311])"
      ]
     },
     "execution_count": 18,
     "metadata": {},
     "output_type": "execute_result"
    }
   ],
   "source": [
    "np.empty(3)"
   ]
  },
  {
   "cell_type": "markdown",
   "id": "d64c9390",
   "metadata": {},
   "source": [
    "*Remark:* The empty array is not really empty, it is filled with random very small numbers."
   ]
  },
  {
   "cell_type": "markdown",
   "id": "46c9470a",
   "metadata": {},
   "source": [
    "You can reassign a value of an array by using array indexing and the assignment operator. You can reassign multiple elements to a single number using array indexing on the left side. You can also reassign multiple elements of an array as long as both the number of elements being assigned and the number of elements assigned is the same. You can create an array using array indexing."
   ]
  },
  {
   "cell_type": "markdown",
   "id": "65ce1ab5",
   "metadata": {},
   "source": [
    "**Example:** Let $a$ = [1, 2, 3, 4, 5, 6]. Reassign the fourth element of $a$ to 7. Reassign the first, second, and thrid elements to 1. Reassign the second, third, and fourth elements to 9, 8, and 7."
   ]
  },
  {
   "cell_type": "code",
   "execution_count": 19,
   "id": "9e9987dc",
   "metadata": {},
   "outputs": [
    {
     "data": {
      "text/plain": [
       "array([1, 2, 3, 4, 5, 6])"
      ]
     },
     "execution_count": 19,
     "metadata": {},
     "output_type": "execute_result"
    }
   ],
   "source": [
    "a = np.arange(1, 7)\n",
    "a"
   ]
  },
  {
   "cell_type": "code",
   "execution_count": 20,
   "id": "eed62fcb",
   "metadata": {},
   "outputs": [
    {
     "data": {
      "text/plain": [
       "array([1, 2, 3, 7, 5, 6])"
      ]
     },
     "execution_count": 20,
     "metadata": {},
     "output_type": "execute_result"
    }
   ],
   "source": [
    "a[3] = 7\n",
    "a"
   ]
  },
  {
   "cell_type": "code",
   "execution_count": 21,
   "id": "56f1c513",
   "metadata": {},
   "outputs": [
    {
     "data": {
      "text/plain": [
       "array([1, 1, 1, 7, 5, 6])"
      ]
     },
     "execution_count": 21,
     "metadata": {},
     "output_type": "execute_result"
    }
   ],
   "source": [
    "a[:3] = 1\n",
    "a"
   ]
  },
  {
   "cell_type": "code",
   "execution_count": 22,
   "id": "6c821e46",
   "metadata": {},
   "outputs": [
    {
     "data": {
      "text/plain": [
       "array([1, 9, 8, 7, 5, 6])"
      ]
     },
     "execution_count": 22,
     "metadata": {},
     "output_type": "execute_result"
    }
   ],
   "source": [
    "a[1:4] = [9, 8, 7]\n",
    "a"
   ]
  },
  {
   "cell_type": "markdown",
   "id": "4361d245",
   "metadata": {},
   "source": [
    "**Example:** Create a zero array b with shape 2 by 2, and set $ b = \\left( \\begin{array}{cc}  1 & 2 \\\\ 3 & 4 \\end{array} \\right) $ using array indexing."
   ]
  },
  {
   "cell_type": "code",
   "execution_count": 23,
   "id": "654fad6f",
   "metadata": {},
   "outputs": [
    {
     "data": {
      "text/plain": [
       "array([[1., 2.],\n",
       "       [3., 4.]])"
      ]
     },
     "execution_count": 23,
     "metadata": {},
     "output_type": "execute_result"
    }
   ],
   "source": [
    "b = np.zeros((2, 2))\n",
    "b[0, 0] = 1\n",
    "b[0, 1] = 2\n",
    "b[1, 0] = 3\n",
    "b[1, 1] = 4\n",
    "b"
   ]
  },
  {
   "cell_type": "markdown",
   "id": "2df19cdf",
   "metadata": {},
   "source": [
    "**Remark:** Although you can create an array from scratch using indexing, we do not advise it. It can confuse you and errors will be harder to find in your code later. For example, b[1, 1] = 1 will give the result $ b = \\left( \\begin{array}{cc}  0 & 0 \\\\ 0 & 1 \\end{array} \\right) $, which is strange because b[0, 0], b[0, 1], and b[1, 0] were never specified."
   ]
  },
  {
   "cell_type": "markdown",
   "id": "43a96ed0",
   "metadata": {},
   "source": [
    "Basic arithmetic is defined for arrays. However, there are operations between a scalar (a single number) and an array and operations between two arrays. We will start with operations between a scalar and an array. To illustrate, let $c$ be a scalar, and $b$ be a matrix."
   ]
  },
  {
   "cell_type": "markdown",
   "id": "ec720b7a",
   "metadata": {},
   "source": [
    "$b + c$, $b − c$, $b * c$ and $\\frac{b}{c}$ adds $c$ to every element of $b$, subtracts $c$ from every element of $b$, multiplies every element of $b$ by $c$, and divides every element of $b$ by $c$, respectively."
   ]
  },
  {
   "cell_type": "markdown",
   "id": "c011dd17",
   "metadata": {},
   "source": [
    "**Example:** Let $ b = \\left( \\begin{array}{cc}  1 & 2 \\\\ 3 & 4 \\end{array} \\right) $. Add and substract 2 from $b$. Multiply and divide $b$ by 2. Square every element of $b$. Let $c$ be a scalar. On your own, verify the reflexivity of scalar addition and multiplication: $b + c = c + b$ and $cb = bc$."
   ]
  },
  {
   "cell_type": "code",
   "execution_count": 24,
   "id": "552388a5",
   "metadata": {},
   "outputs": [
    {
     "data": {
      "text/plain": [
       "array([[3., 4.],\n",
       "       [5., 6.]])"
      ]
     },
     "execution_count": 24,
     "metadata": {},
     "output_type": "execute_result"
    }
   ],
   "source": [
    "b + 2"
   ]
  },
  {
   "cell_type": "code",
   "execution_count": 25,
   "id": "faffe276",
   "metadata": {},
   "outputs": [
    {
     "data": {
      "text/plain": [
       "array([[-1.,  0.],\n",
       "       [ 1.,  2.]])"
      ]
     },
     "execution_count": 25,
     "metadata": {},
     "output_type": "execute_result"
    }
   ],
   "source": [
    "b - 2"
   ]
  },
  {
   "cell_type": "code",
   "execution_count": 26,
   "id": "48086876",
   "metadata": {},
   "outputs": [
    {
     "data": {
      "text/plain": [
       "array([[2., 4.],\n",
       "       [6., 8.]])"
      ]
     },
     "execution_count": 26,
     "metadata": {},
     "output_type": "execute_result"
    }
   ],
   "source": [
    "2 * b"
   ]
  },
  {
   "cell_type": "code",
   "execution_count": 27,
   "id": "7386f1c8",
   "metadata": {},
   "outputs": [
    {
     "data": {
      "text/plain": [
       "array([[0.5, 1. ],\n",
       "       [1.5, 2. ]])"
      ]
     },
     "execution_count": 27,
     "metadata": {},
     "output_type": "execute_result"
    }
   ],
   "source": [
    "b / 2"
   ]
  },
  {
   "cell_type": "code",
   "execution_count": 28,
   "id": "90c185eb",
   "metadata": {},
   "outputs": [
    {
     "data": {
      "text/plain": [
       "array([[ 1.,  4.],\n",
       "       [ 9., 16.]])"
      ]
     },
     "execution_count": 28,
     "metadata": {},
     "output_type": "execute_result"
    }
   ],
   "source": [
    "b**2"
   ]
  },
  {
   "cell_type": "markdown",
   "id": "c577e852",
   "metadata": {},
   "source": [
    "Describing operations between two matrices is more complicated. Let $b$ and $d$ be two matrices of the same size. $b − d$ takes every element of $b$ and subtracts the corresponding element of $d$. Similarly, $b + d$ adds every element of $d$ to the corresponding element of $b$."
   ]
  },
  {
   "cell_type": "markdown",
   "id": "99768cf4",
   "metadata": {},
   "source": [
    "**Example:** Let $ b = \\left( \\begin{array}{cc}  3 & 4 \\\\ 5 & 6 \\end{array} \\right) $ and $ d = \\left( \\begin{array}{cc}  3 & 4 \\\\ 5 & 6 \\end{array} \\right) $. Compute $b + d$ and $b - d$."
   ]
  },
  {
   "cell_type": "code",
   "execution_count": 29,
   "id": "8c885568",
   "metadata": {},
   "outputs": [],
   "source": [
    "b = np.array([[1, 2], [3, 4]])\n",
    "d = np.array([[3, 4], [5, 6]])"
   ]
  },
  {
   "cell_type": "code",
   "execution_count": 30,
   "id": "24eb9474",
   "metadata": {},
   "outputs": [
    {
     "data": {
      "text/plain": [
       "array([[ 4,  6],\n",
       "       [ 8, 10]])"
      ]
     },
     "execution_count": 30,
     "metadata": {},
     "output_type": "execute_result"
    }
   ],
   "source": [
    "b + d"
   ]
  },
  {
   "cell_type": "code",
   "execution_count": 31,
   "id": "fde12855",
   "metadata": {},
   "outputs": [
    {
     "data": {
      "text/plain": [
       "array([[-2, -2],\n",
       "       [-2, -2]])"
      ]
     },
     "execution_count": 31,
     "metadata": {},
     "output_type": "execute_result"
    }
   ],
   "source": [
    "b - d"
   ]
  },
  {
   "cell_type": "markdown",
   "id": "36a82fea",
   "metadata": {},
   "source": [
    "There are two different kinds of matrix multiplication (and division). There is element-by-element matrix multiplication and standard matrix multiplication. We will only show how element-by-element matrix multiplication and division work. Python takes the $*$ symbol to mean element-by-element multiplication. For matrices $b$ and $d$ of the same size, $b * d$ takes every element of $b$ and multiplies it by the corresponding element of $d$. The same is true for $/$ and $**$."
   ]
  },
  {
   "cell_type": "markdown",
   "id": "b3f3a559",
   "metadata": {},
   "source": [
    "**Example:** Compute $b * d$, $b / d$, and $b**d$."
   ]
  },
  {
   "cell_type": "code",
   "execution_count": 32,
   "id": "2c935778",
   "metadata": {},
   "outputs": [
    {
     "data": {
      "text/plain": [
       "array([[ 3,  8],\n",
       "       [15, 24]])"
      ]
     },
     "execution_count": 32,
     "metadata": {},
     "output_type": "execute_result"
    }
   ],
   "source": [
    "b * d"
   ]
  },
  {
   "cell_type": "code",
   "execution_count": 33,
   "id": "cbbccfea",
   "metadata": {},
   "outputs": [
    {
     "data": {
      "text/plain": [
       "array([[0.33333333, 0.5       ],\n",
       "       [0.6       , 0.66666667]])"
      ]
     },
     "execution_count": 33,
     "metadata": {},
     "output_type": "execute_result"
    }
   ],
   "source": [
    "b / d"
   ]
  },
  {
   "cell_type": "code",
   "execution_count": 34,
   "id": "f72752d3",
   "metadata": {},
   "outputs": [
    {
     "data": {
      "text/plain": [
       "array([[   1,   16],\n",
       "       [ 243, 4096]])"
      ]
     },
     "execution_count": 34,
     "metadata": {},
     "output_type": "execute_result"
    }
   ],
   "source": [
    "b**d"
   ]
  },
  {
   "cell_type": "markdown",
   "id": "4e67770f",
   "metadata": {},
   "source": [
    "The **transpose** of an array, $b$, is an array, $d$, where $b[i, j] = d[j, i]$. In other words, the transpose switches the rows and the columns of $b$. You can transpose an array in Python using the array method $T$."
   ]
  },
  {
   "cell_type": "markdown",
   "id": "3ec0c25c",
   "metadata": {},
   "source": [
    "**Example:** Compute the transpose of array $b$."
   ]
  },
  {
   "cell_type": "code",
   "execution_count": 35,
   "id": "3e15c889",
   "metadata": {},
   "outputs": [
    {
     "data": {
      "text/plain": [
       "array([[1, 3],\n",
       "       [2, 4]])"
      ]
     },
     "execution_count": 35,
     "metadata": {},
     "output_type": "execute_result"
    }
   ],
   "source": [
    "b.T"
   ]
  },
  {
   "cell_type": "markdown",
   "id": "894bd6e9",
   "metadata": {},
   "source": [
    "Numpy has many arithmetic functions, such as $sin$, $cos$, etc., can take arrays as input arguments. The output is the function evaluated for every element of the input array. A function that takes an array as input and performs the function on it is said to be **vectorized**."
   ]
  },
  {
   "cell_type": "markdown",
   "id": "ba4661a1",
   "metadata": {},
   "source": [
    "**Example:** Compute *np.sqrt* for $x = [1, 4, 9, 16]$."
   ]
  },
  {
   "cell_type": "code",
   "execution_count": 36,
   "id": "3c321a8f",
   "metadata": {},
   "outputs": [
    {
     "data": {
      "text/plain": [
       "array([1., 2., 3., 4.])"
      ]
     },
     "execution_count": 36,
     "metadata": {},
     "output_type": "execute_result"
    }
   ],
   "source": [
    "x = [1, 4, 9, 16]\n",
    "np.sqrt(x)"
   ]
  },
  {
   "cell_type": "markdown",
   "id": "083454e6",
   "metadata": {},
   "source": [
    "Logical operations are only defined between a scalar and an array and between two arrays of the same size. Between a scalar and an array, the logical operation is conducted between the scalar and each element of the array. Between two arrays, the logical operation is conducted element-by-element."
   ]
  },
  {
   "cell_type": "markdown",
   "id": "0756224b",
   "metadata": {},
   "source": [
    "**Example:** Check which elements of the array $x = [1, 2, 4, 5, 9, 3]$ are larger than 3. Check which elements in $x$ are larger than the corresponding element in $y = [0, 2, 3, 1, 2, 3]$."
   ]
  },
  {
   "cell_type": "code",
   "execution_count": 37,
   "id": "f5adc769",
   "metadata": {},
   "outputs": [],
   "source": [
    "x = np.array([1, 2, 4, 5, 9, 3])\n",
    "y = np.array([0, 2, 3, 1, 2, 3])"
   ]
  },
  {
   "cell_type": "code",
   "execution_count": 38,
   "id": "348d9fdc",
   "metadata": {},
   "outputs": [
    {
     "data": {
      "text/plain": [
       "array([False, False,  True,  True,  True, False])"
      ]
     },
     "execution_count": 38,
     "metadata": {},
     "output_type": "execute_result"
    }
   ],
   "source": [
    "x > 3"
   ]
  },
  {
   "cell_type": "code",
   "execution_count": 39,
   "id": "dffc6da8",
   "metadata": {},
   "outputs": [
    {
     "data": {
      "text/plain": [
       "array([ True, False,  True,  True,  True, False])"
      ]
     },
     "execution_count": 39,
     "metadata": {},
     "output_type": "execute_result"
    }
   ],
   "source": [
    "x > y"
   ]
  },
  {
   "cell_type": "markdown",
   "id": "f173b657",
   "metadata": {},
   "source": [
    "Python can index elements of an array that satisfy a logical expression."
   ]
  },
  {
   "cell_type": "markdown",
   "id": "350187d9",
   "metadata": {},
   "source": [
    "**Example:** Let $x$ be the same array as in the previous example. Create a variable $y$ that contains all the elements of $x$ that are strictly bigger than 3. Assign all the values of $x$ that are bigger than 3, the value 0."
   ]
  },
  {
   "cell_type": "code",
   "execution_count": 40,
   "id": "8a755a83",
   "metadata": {},
   "outputs": [
    {
     "data": {
      "text/plain": [
       "array([4, 5, 9])"
      ]
     },
     "execution_count": 40,
     "metadata": {},
     "output_type": "execute_result"
    }
   ],
   "source": [
    "y = x[x > 3]\n",
    "y"
   ]
  },
  {
   "cell_type": "code",
   "execution_count": 41,
   "id": "183257ca",
   "metadata": {},
   "outputs": [
    {
     "data": {
      "text/plain": [
       "array([1, 2, 0, 0, 0, 3])"
      ]
     },
     "execution_count": 41,
     "metadata": {},
     "output_type": "execute_result"
    }
   ],
   "source": [
    "x[x > 3] = 0\n",
    "x"
   ]
  },
  {
   "cell_type": "markdown",
   "id": "de4bee78",
   "metadata": {},
   "source": [
    "### <center> Exercises"
   ]
  },
  {
   "cell_type": "markdown",
   "id": "07777afb",
   "metadata": {},
   "source": [
    "**1.** Create array $x$ and $y$, where $x = [1, 4, 3, 2, 9, 4]$ and $y=[2, 3, 4, 1, 2, 3]$. Perform all possible operations that can be defined between $x$ and $y$."
   ]
  },
  {
   "cell_type": "code",
   "execution_count": 42,
   "id": "9fa9f52f",
   "metadata": {},
   "outputs": [],
   "source": [
    "import numpy as np"
   ]
  },
  {
   "cell_type": "code",
   "execution_count": 48,
   "id": "073c7276",
   "metadata": {},
   "outputs": [
    {
     "name": "stdout",
     "output_type": "stream",
     "text": [
      "Addition:\n",
      "[ 3  7  7  3 11  7]\n",
      "\n",
      "Subtraction:\n",
      "[-1  1 -1  1  7  1]\n",
      "\n",
      "Multiplication:\n",
      "[ 2 12 12  2 18 12]\n",
      "\n",
      "Division:\n",
      "[0.5        1.33333333 0.75       2.         4.5        1.33333333]\n",
      "\n",
      "Exponentiation:\n",
      "[ 1 64 81  2 81 64]\n",
      "\n",
      "Greater than:\n",
      "[False  True False  True  True  True]\n",
      "\n",
      "Less than:\n",
      "[ True False  True False False False]\n",
      "\n",
      "Equal to:\n",
      "[False False False False False False]\n",
      "\n",
      "Not equal to:\n",
      "[ True  True  True  True  True  True]\n"
     ]
    }
   ],
   "source": [
    "x = np.array([1, 4, 3, 2, 9, 4])\n",
    "y = np.array([2, 3, 4, 1, 2, 3])\n",
    "\n",
    "\n",
    "addition_result = x + y\n",
    "print(\"Addition:\")\n",
    "print(addition_result)\n",
    "\n",
    "\n",
    "subtraction_result = x - y\n",
    "print(\"\\nSubtraction:\")\n",
    "print(subtraction_result)\n",
    "\n",
    "\n",
    "multiplication_result = x * y\n",
    "print(\"\\nMultiplication:\")\n",
    "print(multiplication_result)\n",
    "\n",
    "\n",
    "division_result = x / y\n",
    "print(\"\\nDivision:\")\n",
    "print(division_result)\n",
    "\n",
    "\n",
    "exponentiation_result = x ** y\n",
    "print(\"\\nExponentiation:\")\n",
    "print(exponentiation_result)\n",
    "\n",
    "\n",
    "greater_than_result = x > y\n",
    "print(\"\\nGreater than:\")\n",
    "print(greater_than_result)\n",
    "\n",
    "\n",
    "less_than_result = x < y\n",
    "print(\"\\nLess than:\")\n",
    "print(less_than_result)\n",
    "\n",
    "\n",
    "equal_to_result = x == y\n",
    "print(\"\\nEqual to:\")\n",
    "print(equal_to_result)\n",
    "\n",
    "\n",
    "not_equal_to_result = x != y\n",
    "print(\"\\nNot equal to:\")\n",
    "print(not_equal_to_result)"
   ]
  },
  {
   "cell_type": "markdown",
   "id": "8e157122",
   "metadata": {},
   "source": [
    "**2.** Generate an array with size 100 evenly spaced between -10 to 10 using linspace function in Numpy."
   ]
  },
  {
   "cell_type": "code",
   "execution_count": 45,
   "id": "81844f11",
   "metadata": {},
   "outputs": [],
   "source": [
    "import numpy as np"
   ]
  },
  {
   "cell_type": "code",
   "execution_count": 44,
   "id": "fdef98d4",
   "metadata": {},
   "outputs": [
    {
     "name": "stdout",
     "output_type": "stream",
     "text": [
      "[-10.          -9.7979798   -9.5959596   -9.39393939  -9.19191919\n",
      "  -8.98989899  -8.78787879  -8.58585859  -8.38383838  -8.18181818\n",
      "  -7.97979798  -7.77777778  -7.57575758  -7.37373737  -7.17171717\n",
      "  -6.96969697  -6.76767677  -6.56565657  -6.36363636  -6.16161616\n",
      "  -5.95959596  -5.75757576  -5.55555556  -5.35353535  -5.15151515\n",
      "  -4.94949495  -4.74747475  -4.54545455  -4.34343434  -4.14141414\n",
      "  -3.93939394  -3.73737374  -3.53535354  -3.33333333  -3.13131313\n",
      "  -2.92929293  -2.72727273  -2.52525253  -2.32323232  -2.12121212\n",
      "  -1.91919192  -1.71717172  -1.51515152  -1.31313131  -1.11111111\n",
      "  -0.90909091  -0.70707071  -0.50505051  -0.3030303   -0.1010101\n",
      "   0.1010101    0.3030303    0.50505051   0.70707071   0.90909091\n",
      "   1.11111111   1.31313131   1.51515152   1.71717172   1.91919192\n",
      "   2.12121212   2.32323232   2.52525253   2.72727273   2.92929293\n",
      "   3.13131313   3.33333333   3.53535354   3.73737374   3.93939394\n",
      "   4.14141414   4.34343434   4.54545455   4.74747475   4.94949495\n",
      "   5.15151515   5.35353535   5.55555556   5.75757576   5.95959596\n",
      "   6.16161616   6.36363636   6.56565657   6.76767677   6.96969697\n",
      "   7.17171717   7.37373737   7.57575758   7.77777778   7.97979798\n",
      "   8.18181818   8.38383838   8.58585859   8.78787879   8.98989899\n",
      "   9.19191919   9.39393939   9.5959596    9.7979798   10.        ]\n"
     ]
    }
   ],
   "source": [
    "array = np.linspace(-10, 10, 100)\n",
    "print(array)"
   ]
  },
  {
   "cell_type": "markdown",
   "id": "2f6b579f",
   "metadata": {},
   "source": [
    "**3** Let array_a be an array $[-1, 0, 1, 2, 0, 3]$. Write a command that will return an array consisting of all the elements of array_a that are larger than zero."
   ]
  },
  {
   "cell_type": "code",
   "execution_count": 47,
   "id": "d615dcf7",
   "metadata": {},
   "outputs": [
    {
     "name": "stdout",
     "output_type": "stream",
     "text": [
      "[1 2 3]\n"
     ]
    }
   ],
   "source": [
    "array_a = np.array([-1, 0, 1, 2, 0, 3])\n",
    "result_array = array_a[array_a > 0]\n",
    "print(result_array)"
   ]
  },
  {
   "cell_type": "markdown",
   "id": "d422abcf",
   "metadata": {},
   "source": [
    "**4.** Create a zero array with size (2, 4)."
   ]
  },
  {
   "cell_type": "code",
   "execution_count": 49,
   "id": "0b61cd03",
   "metadata": {},
   "outputs": [
    {
     "name": "stdout",
     "output_type": "stream",
     "text": [
      "[[0. 0. 0. 0.]\n",
      " [0. 0. 0. 0.]]\n"
     ]
    }
   ],
   "source": [
    "zero_array = np.zeros((2, 4))\n",
    "print(zero_array)"
   ]
  },
  {
   "cell_type": "markdown",
   "id": "5996578c",
   "metadata": {},
   "source": [
    "**5.** Change the 2nd column in the above array to 1."
   ]
  },
  {
   "cell_type": "code",
   "execution_count": 50,
   "id": "e86b34d7",
   "metadata": {},
   "outputs": [],
   "source": [
    "zero_array = np.zeros((2, 4))"
   ]
  },
  {
   "cell_type": "code",
   "execution_count": 51,
   "id": "397eedf8",
   "metadata": {},
   "outputs": [],
   "source": [
    "zero_array[:, 1] = 1"
   ]
  },
  {
   "cell_type": "code",
   "execution_count": 52,
   "id": "80e448b1",
   "metadata": {},
   "outputs": [
    {
     "name": "stdout",
     "output_type": "stream",
     "text": [
      "[[0. 1. 0. 0.]\n",
      " [0. 1. 0. 0.]]\n"
     ]
    }
   ],
   "source": [
    "print(zero_array)\n"
   ]
  },
  {
   "cell_type": "code",
   "execution_count": null,
   "id": "37393b42",
   "metadata": {},
   "outputs": [],
   "source": []
  }
 ],
 "metadata": {
  "kernelspec": {
   "display_name": "Python 3 (ipykernel)",
   "language": "python",
   "name": "python3"
  },
  "language_info": {
   "codemirror_mode": {
    "name": "ipython",
    "version": 3
   },
   "file_extension": ".py",
   "mimetype": "text/x-python",
   "name": "python",
   "nbconvert_exporter": "python",
   "pygments_lexer": "ipython3",
   "version": "3.10.9"
  }
 },
 "nbformat": 4,
 "nbformat_minor": 5
}
