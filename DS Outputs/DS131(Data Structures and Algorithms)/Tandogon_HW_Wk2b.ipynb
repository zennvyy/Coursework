{
 "cells": [
  {
   "cell_type": "markdown",
   "id": "d5f6f3b2",
   "metadata": {},
   "source": [
    "## <center> Big-Oh Functions\n",
    "    "
   ]
  },
  {
   "cell_type": "code",
   "execution_count": null,
   "id": "78dfb0f1",
   "metadata": {},
   "outputs": [],
   "source": [
    "#Tandogon, Zen Adrian"
   ]
  },
  {
   "cell_type": "markdown",
   "id": "8601f0e9",
   "metadata": {},
   "source": [
    "#### <center> DS 131 (Week 2 Assignment)"
   ]
  },
  {
   "cell_type": "markdown",
   "id": "dad317f5",
   "metadata": {},
   "source": [
    "Order the following functions by asymptotic growth rate (slowest to fastest).\n",
    "$$4n \\space log \\space n+2n$$ \n",
    "$$2^{10}$$ \n",
    "$$2^{log \\space n}$$ \n",
    "$$3n+100 \\space log \\space n$$ \n",
    "$$4n$$ \n",
    "$$2^n$$\n",
    "$$n^2 +10n$$\t\n",
    "$$n^3$$\t\n",
    "$$n \\space log \\space n$$"
   ]
  },
  {
   "cell_type": "markdown",
   "id": "eed226ca",
   "metadata": {},
   "source": [
    "Justify your answer using the concept of Big-Oh."
   ]
  },
  {
   "cell_type": "code",
   "execution_count": 2,
   "id": "e8a50851",
   "metadata": {},
   "outputs": [],
   "source": [
    "#1. 2^n Exponential growth is one of the fastest-growing functions. The function grows rapidly as the input size increases, making it faster-growing than any polynomial or linearithmic function.\n",
    "\n",
    "\n",
    "#2.n^3 Cubic growth implies that the function grows with the cube of the input size (n^3). It grows faster than quadratic but slower than exponential growth.\n",
    "\n",
    "#3. 4n log n + 2n Similar to n log n, this is linearithmic growth. It grows faster than quadratic but slower than exponential growth.\n",
    "\n",
    "#4. 2^logn This function grows exponentially but at a rate determined by the logarithm of n. It grows faster than constant growth but slower than other functions with more complex growth patterns.\n",
    "\n",
    "\n",
    "#5. 2^10 has the slowest growth rate because it is a constant value, so it does not depend on the input size (n).\n",
    "\n",
    "#6. 3n + 100 log n This function is primarily linear but has an additional logarithmic term. It grows faster than pure linear growth but slower than functions with higher-order terms.\n",
    "\n",
    "#7. n log n Linearithmic growth is a combination of linear and logarithmic growth. It is slower than polynomial or exponential growth but faster than linear or linear with a logarithmic term.\n",
    "\n",
    "#8. 4n Linear growth means the function grows linearly with the input size (n). It is faster-growing than constant growth but slower than other functions with more complex growth patterns.\n",
    "\n",
    "#9. n^2 + 10n Quadratic growth means the function grows with the square of the input size (n^2 ). It grows faster than linearithmic but slower than cubic and exponential growth."
   ]
  },
  {
   "cell_type": "code",
   "execution_count": null,
   "id": "e6203ab8",
   "metadata": {},
   "outputs": [],
   "source": []
  },
  {
   "cell_type": "markdown",
   "id": "e24b66f3",
   "metadata": {},
   "source": []
  },
  {
   "cell_type": "code",
   "execution_count": null,
   "id": "56cde35b",
   "metadata": {},
   "outputs": [],
   "source": []
  }
 ],
 "metadata": {
  "kernelspec": {
   "display_name": "Python 3 (ipykernel)",
   "language": "python",
   "name": "python3"
  },
  "language_info": {
   "codemirror_mode": {
    "name": "ipython",
    "version": 3
   },
   "file_extension": ".py",
   "mimetype": "text/x-python",
   "name": "python",
   "nbconvert_exporter": "python",
   "pygments_lexer": "ipython3",
   "version": "3.10.9"
  }
 },
 "nbformat": 4,
 "nbformat_minor": 5
}
